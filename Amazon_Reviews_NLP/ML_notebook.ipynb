{
 "cells": [
  {
   "cell_type": "markdown",
   "metadata": {},
   "source": [
    "# Read CSV"
   ]
  },
  {
   "cell_type": "code",
   "execution_count": 1,
   "metadata": {},
   "outputs": [],
   "source": [
    "import pandas as pd"
   ]
  },
  {
   "cell_type": "code",
   "execution_count": 6,
   "metadata": {},
   "outputs": [],
   "source": [
    "file=\"amazonReviews.csv\""
   ]
  },
  {
   "cell_type": "code",
   "execution_count": 7,
   "metadata": {},
   "outputs": [
    {
     "name": "stderr",
     "output_type": "stream",
     "text": [
      "C:\\Users\\miva\\Anaconda3\\lib\\site-packages\\IPython\\core\\interactiveshell.py:3020: DtypeWarning: Columns (1,10) have mixed types. Specify dtype option on import or set low_memory=False.\n",
      "  interactivity=interactivity, compiler=compiler, result=result)\n"
     ]
    },
    {
     "data": {
      "text/html": [
       "<div>\n",
       "<style scoped>\n",
       "    .dataframe tbody tr th:only-of-type {\n",
       "        vertical-align: middle;\n",
       "    }\n",
       "\n",
       "    .dataframe tbody tr th {\n",
       "        vertical-align: top;\n",
       "    }\n",
       "\n",
       "    .dataframe thead th {\n",
       "        text-align: right;\n",
       "    }\n",
       "</style>\n",
       "<table border=\"1\" class=\"dataframe\">\n",
       "  <thead>\n",
       "    <tr style=\"text-align: right;\">\n",
       "      <th></th>\n",
       "      <th>id</th>\n",
       "      <th>name</th>\n",
       "      <th>asins</th>\n",
       "      <th>brand</th>\n",
       "      <th>categories</th>\n",
       "      <th>keys</th>\n",
       "      <th>manufacturer</th>\n",
       "      <th>reviews.date</th>\n",
       "      <th>reviews.dateAdded</th>\n",
       "      <th>reviews.dateSeen</th>\n",
       "      <th>...</th>\n",
       "      <th>reviews.doRecommend</th>\n",
       "      <th>reviews.id</th>\n",
       "      <th>reviews.numHelpful</th>\n",
       "      <th>reviews.rating</th>\n",
       "      <th>reviews.sourceURLs</th>\n",
       "      <th>reviews.text</th>\n",
       "      <th>reviews.title</th>\n",
       "      <th>reviews.userCity</th>\n",
       "      <th>reviews.userProvince</th>\n",
       "      <th>reviews.username</th>\n",
       "    </tr>\n",
       "  </thead>\n",
       "  <tbody>\n",
       "    <tr>\n",
       "      <th>0</th>\n",
       "      <td>AVqkIhwDv8e3D1O-lebb</td>\n",
       "      <td>All-New Fire HD 8 Tablet, 8 HD Display, Wi-Fi,...</td>\n",
       "      <td>B01AHB9CN2</td>\n",
       "      <td>Amazon</td>\n",
       "      <td>Electronics,iPad &amp; Tablets,All Tablets,Fire Ta...</td>\n",
       "      <td>841667104676,amazon/53004484,amazon/b01ahb9cn2...</td>\n",
       "      <td>Amazon</td>\n",
       "      <td>2017-01-13T00:00:00.000Z</td>\n",
       "      <td>2017-07-03T23:33:15Z</td>\n",
       "      <td>2017-06-07T09:04:00.000Z,2017-04-30T00:45:00.000Z</td>\n",
       "      <td>...</td>\n",
       "      <td>True</td>\n",
       "      <td>NaN</td>\n",
       "      <td>0.0</td>\n",
       "      <td>5.0</td>\n",
       "      <td>http://reviews.bestbuy.com/3545/5620406/review...</td>\n",
       "      <td>This product so far has not disappointed. My c...</td>\n",
       "      <td>Kindle</td>\n",
       "      <td>NaN</td>\n",
       "      <td>NaN</td>\n",
       "      <td>Adapter</td>\n",
       "    </tr>\n",
       "    <tr>\n",
       "      <th>1</th>\n",
       "      <td>AVqkIhwDv8e3D1O-lebb</td>\n",
       "      <td>All-New Fire HD 8 Tablet, 8 HD Display, Wi-Fi,...</td>\n",
       "      <td>B01AHB9CN2</td>\n",
       "      <td>Amazon</td>\n",
       "      <td>Electronics,iPad &amp; Tablets,All Tablets,Fire Ta...</td>\n",
       "      <td>841667104676,amazon/53004484,amazon/b01ahb9cn2...</td>\n",
       "      <td>Amazon</td>\n",
       "      <td>2017-01-13T00:00:00.000Z</td>\n",
       "      <td>2017-07-03T23:33:15Z</td>\n",
       "      <td>2017-06-07T09:04:00.000Z,2017-04-30T00:45:00.000Z</td>\n",
       "      <td>...</td>\n",
       "      <td>True</td>\n",
       "      <td>NaN</td>\n",
       "      <td>0.0</td>\n",
       "      <td>5.0</td>\n",
       "      <td>http://reviews.bestbuy.com/3545/5620406/review...</td>\n",
       "      <td>great for beginner or experienced person. Boug...</td>\n",
       "      <td>very fast</td>\n",
       "      <td>NaN</td>\n",
       "      <td>NaN</td>\n",
       "      <td>truman</td>\n",
       "    </tr>\n",
       "    <tr>\n",
       "      <th>2</th>\n",
       "      <td>AVqkIhwDv8e3D1O-lebb</td>\n",
       "      <td>All-New Fire HD 8 Tablet, 8 HD Display, Wi-Fi,...</td>\n",
       "      <td>B01AHB9CN2</td>\n",
       "      <td>Amazon</td>\n",
       "      <td>Electronics,iPad &amp; Tablets,All Tablets,Fire Ta...</td>\n",
       "      <td>841667104676,amazon/53004484,amazon/b01ahb9cn2...</td>\n",
       "      <td>Amazon</td>\n",
       "      <td>2017-01-13T00:00:00.000Z</td>\n",
       "      <td>2017-07-03T23:33:15Z</td>\n",
       "      <td>2017-06-07T09:04:00.000Z,2017-04-30T00:45:00.000Z</td>\n",
       "      <td>...</td>\n",
       "      <td>True</td>\n",
       "      <td>NaN</td>\n",
       "      <td>0.0</td>\n",
       "      <td>5.0</td>\n",
       "      <td>http://reviews.bestbuy.com/3545/5620406/review...</td>\n",
       "      <td>Inexpensive tablet for him to use and learn on...</td>\n",
       "      <td>Beginner tablet for our 9 year old son.</td>\n",
       "      <td>NaN</td>\n",
       "      <td>NaN</td>\n",
       "      <td>DaveZ</td>\n",
       "    </tr>\n",
       "    <tr>\n",
       "      <th>3</th>\n",
       "      <td>AVqkIhwDv8e3D1O-lebb</td>\n",
       "      <td>All-New Fire HD 8 Tablet, 8 HD Display, Wi-Fi,...</td>\n",
       "      <td>B01AHB9CN2</td>\n",
       "      <td>Amazon</td>\n",
       "      <td>Electronics,iPad &amp; Tablets,All Tablets,Fire Ta...</td>\n",
       "      <td>841667104676,amazon/53004484,amazon/b01ahb9cn2...</td>\n",
       "      <td>Amazon</td>\n",
       "      <td>2017-01-13T00:00:00.000Z</td>\n",
       "      <td>2017-07-03T23:33:15Z</td>\n",
       "      <td>2017-06-07T09:04:00.000Z,2017-04-30T00:45:00.000Z</td>\n",
       "      <td>...</td>\n",
       "      <td>True</td>\n",
       "      <td>NaN</td>\n",
       "      <td>0.0</td>\n",
       "      <td>4.0</td>\n",
       "      <td>http://reviews.bestbuy.com/3545/5620406/review...</td>\n",
       "      <td>I've had my Fire HD 8 two weeks now and I love...</td>\n",
       "      <td>Good!!!</td>\n",
       "      <td>NaN</td>\n",
       "      <td>NaN</td>\n",
       "      <td>Shacks</td>\n",
       "    </tr>\n",
       "    <tr>\n",
       "      <th>4</th>\n",
       "      <td>AVqkIhwDv8e3D1O-lebb</td>\n",
       "      <td>All-New Fire HD 8 Tablet, 8 HD Display, Wi-Fi,...</td>\n",
       "      <td>B01AHB9CN2</td>\n",
       "      <td>Amazon</td>\n",
       "      <td>Electronics,iPad &amp; Tablets,All Tablets,Fire Ta...</td>\n",
       "      <td>841667104676,amazon/53004484,amazon/b01ahb9cn2...</td>\n",
       "      <td>Amazon</td>\n",
       "      <td>2017-01-12T00:00:00.000Z</td>\n",
       "      <td>2017-07-03T23:33:15Z</td>\n",
       "      <td>2017-06-07T09:04:00.000Z,2017-04-30T00:45:00.000Z</td>\n",
       "      <td>...</td>\n",
       "      <td>True</td>\n",
       "      <td>NaN</td>\n",
       "      <td>0.0</td>\n",
       "      <td>5.0</td>\n",
       "      <td>http://reviews.bestbuy.com/3545/5620406/review...</td>\n",
       "      <td>I bought this for my grand daughter when she c...</td>\n",
       "      <td>Fantastic Tablet for kids</td>\n",
       "      <td>NaN</td>\n",
       "      <td>NaN</td>\n",
       "      <td>explore42</td>\n",
       "    </tr>\n",
       "  </tbody>\n",
       "</table>\n",
       "<p>5 rows × 21 columns</p>\n",
       "</div>"
      ],
      "text/plain": [
       "                     id                                               name  \\\n",
       "0  AVqkIhwDv8e3D1O-lebb  All-New Fire HD 8 Tablet, 8 HD Display, Wi-Fi,...   \n",
       "1  AVqkIhwDv8e3D1O-lebb  All-New Fire HD 8 Tablet, 8 HD Display, Wi-Fi,...   \n",
       "2  AVqkIhwDv8e3D1O-lebb  All-New Fire HD 8 Tablet, 8 HD Display, Wi-Fi,...   \n",
       "3  AVqkIhwDv8e3D1O-lebb  All-New Fire HD 8 Tablet, 8 HD Display, Wi-Fi,...   \n",
       "4  AVqkIhwDv8e3D1O-lebb  All-New Fire HD 8 Tablet, 8 HD Display, Wi-Fi,...   \n",
       "\n",
       "        asins   brand                                         categories  \\\n",
       "0  B01AHB9CN2  Amazon  Electronics,iPad & Tablets,All Tablets,Fire Ta...   \n",
       "1  B01AHB9CN2  Amazon  Electronics,iPad & Tablets,All Tablets,Fire Ta...   \n",
       "2  B01AHB9CN2  Amazon  Electronics,iPad & Tablets,All Tablets,Fire Ta...   \n",
       "3  B01AHB9CN2  Amazon  Electronics,iPad & Tablets,All Tablets,Fire Ta...   \n",
       "4  B01AHB9CN2  Amazon  Electronics,iPad & Tablets,All Tablets,Fire Ta...   \n",
       "\n",
       "                                                keys manufacturer  \\\n",
       "0  841667104676,amazon/53004484,amazon/b01ahb9cn2...       Amazon   \n",
       "1  841667104676,amazon/53004484,amazon/b01ahb9cn2...       Amazon   \n",
       "2  841667104676,amazon/53004484,amazon/b01ahb9cn2...       Amazon   \n",
       "3  841667104676,amazon/53004484,amazon/b01ahb9cn2...       Amazon   \n",
       "4  841667104676,amazon/53004484,amazon/b01ahb9cn2...       Amazon   \n",
       "\n",
       "               reviews.date     reviews.dateAdded  \\\n",
       "0  2017-01-13T00:00:00.000Z  2017-07-03T23:33:15Z   \n",
       "1  2017-01-13T00:00:00.000Z  2017-07-03T23:33:15Z   \n",
       "2  2017-01-13T00:00:00.000Z  2017-07-03T23:33:15Z   \n",
       "3  2017-01-13T00:00:00.000Z  2017-07-03T23:33:15Z   \n",
       "4  2017-01-12T00:00:00.000Z  2017-07-03T23:33:15Z   \n",
       "\n",
       "                                    reviews.dateSeen        ...         \\\n",
       "0  2017-06-07T09:04:00.000Z,2017-04-30T00:45:00.000Z        ...          \n",
       "1  2017-06-07T09:04:00.000Z,2017-04-30T00:45:00.000Z        ...          \n",
       "2  2017-06-07T09:04:00.000Z,2017-04-30T00:45:00.000Z        ...          \n",
       "3  2017-06-07T09:04:00.000Z,2017-04-30T00:45:00.000Z        ...          \n",
       "4  2017-06-07T09:04:00.000Z,2017-04-30T00:45:00.000Z        ...          \n",
       "\n",
       "  reviews.doRecommend reviews.id  reviews.numHelpful  reviews.rating  \\\n",
       "0                True        NaN                 0.0             5.0   \n",
       "1                True        NaN                 0.0             5.0   \n",
       "2                True        NaN                 0.0             5.0   \n",
       "3                True        NaN                 0.0             4.0   \n",
       "4                True        NaN                 0.0             5.0   \n",
       "\n",
       "                                  reviews.sourceURLs  \\\n",
       "0  http://reviews.bestbuy.com/3545/5620406/review...   \n",
       "1  http://reviews.bestbuy.com/3545/5620406/review...   \n",
       "2  http://reviews.bestbuy.com/3545/5620406/review...   \n",
       "3  http://reviews.bestbuy.com/3545/5620406/review...   \n",
       "4  http://reviews.bestbuy.com/3545/5620406/review...   \n",
       "\n",
       "                                        reviews.text  \\\n",
       "0  This product so far has not disappointed. My c...   \n",
       "1  great for beginner or experienced person. Boug...   \n",
       "2  Inexpensive tablet for him to use and learn on...   \n",
       "3  I've had my Fire HD 8 two weeks now and I love...   \n",
       "4  I bought this for my grand daughter when she c...   \n",
       "\n",
       "                             reviews.title reviews.userCity  \\\n",
       "0                                   Kindle              NaN   \n",
       "1                                very fast              NaN   \n",
       "2  Beginner tablet for our 9 year old son.              NaN   \n",
       "3                                  Good!!!              NaN   \n",
       "4                Fantastic Tablet for kids              NaN   \n",
       "\n",
       "   reviews.userProvince  reviews.username  \n",
       "0                   NaN           Adapter  \n",
       "1                   NaN            truman  \n",
       "2                   NaN             DaveZ  \n",
       "3                   NaN            Shacks  \n",
       "4                   NaN         explore42  \n",
       "\n",
       "[5 rows x 21 columns]"
      ]
     },
     "execution_count": 7,
     "metadata": {},
     "output_type": "execute_result"
    }
   ],
   "source": [
    "df=pd.read_csv(file)\n",
    "df.head()"
   ]
  },
  {
   "cell_type": "code",
   "execution_count": 8,
   "metadata": {},
   "outputs": [],
   "source": [
    "review_classification=[]\n",
    "for review in df[\"reviews.rating\"]:\n",
    "    if review > 3: \n",
    "        review_classification.append(\"POSITIVE\")\n",
    "    else: #review of rating 3, 2, or 1\n",
    "        review_classification.append(\"NEGATIVE\")"
   ]
  },
  {
   "cell_type": "code",
   "execution_count": 9,
   "metadata": {},
   "outputs": [
    {
     "data": {
      "text/plain": [
       "numpy.float64"
      ]
     },
     "execution_count": 9,
     "metadata": {},
     "output_type": "execute_result"
    }
   ],
   "source": [
    "type(df[\"reviews.rating\"][0])"
   ]
  },
  {
   "cell_type": "code",
   "execution_count": 10,
   "metadata": {},
   "outputs": [],
   "source": [
    "df[\"review_rating\"]=review_classification"
   ]
  },
  {
   "cell_type": "code",
   "execution_count": 11,
   "metadata": {},
   "outputs": [
    {
     "data": {
      "text/html": [
       "<div>\n",
       "<style scoped>\n",
       "    .dataframe tbody tr th:only-of-type {\n",
       "        vertical-align: middle;\n",
       "    }\n",
       "\n",
       "    .dataframe tbody tr th {\n",
       "        vertical-align: top;\n",
       "    }\n",
       "\n",
       "    .dataframe thead th {\n",
       "        text-align: right;\n",
       "    }\n",
       "</style>\n",
       "<table border=\"1\" class=\"dataframe\">\n",
       "  <thead>\n",
       "    <tr style=\"text-align: right;\">\n",
       "      <th></th>\n",
       "      <th>id</th>\n",
       "      <th>name</th>\n",
       "      <th>asins</th>\n",
       "      <th>brand</th>\n",
       "      <th>categories</th>\n",
       "      <th>keys</th>\n",
       "      <th>manufacturer</th>\n",
       "      <th>reviews.date</th>\n",
       "      <th>reviews.dateAdded</th>\n",
       "      <th>reviews.dateSeen</th>\n",
       "      <th>...</th>\n",
       "      <th>reviews.id</th>\n",
       "      <th>reviews.numHelpful</th>\n",
       "      <th>reviews.rating</th>\n",
       "      <th>reviews.sourceURLs</th>\n",
       "      <th>reviews.text</th>\n",
       "      <th>reviews.title</th>\n",
       "      <th>reviews.userCity</th>\n",
       "      <th>reviews.userProvince</th>\n",
       "      <th>reviews.username</th>\n",
       "      <th>review_rating</th>\n",
       "    </tr>\n",
       "  </thead>\n",
       "  <tbody>\n",
       "    <tr>\n",
       "      <th>0</th>\n",
       "      <td>AVqkIhwDv8e3D1O-lebb</td>\n",
       "      <td>All-New Fire HD 8 Tablet, 8 HD Display, Wi-Fi,...</td>\n",
       "      <td>B01AHB9CN2</td>\n",
       "      <td>Amazon</td>\n",
       "      <td>Electronics,iPad &amp; Tablets,All Tablets,Fire Ta...</td>\n",
       "      <td>841667104676,amazon/53004484,amazon/b01ahb9cn2...</td>\n",
       "      <td>Amazon</td>\n",
       "      <td>2017-01-13T00:00:00.000Z</td>\n",
       "      <td>2017-07-03T23:33:15Z</td>\n",
       "      <td>2017-06-07T09:04:00.000Z,2017-04-30T00:45:00.000Z</td>\n",
       "      <td>...</td>\n",
       "      <td>NaN</td>\n",
       "      <td>0.0</td>\n",
       "      <td>5.0</td>\n",
       "      <td>http://reviews.bestbuy.com/3545/5620406/review...</td>\n",
       "      <td>This product so far has not disappointed. My c...</td>\n",
       "      <td>Kindle</td>\n",
       "      <td>NaN</td>\n",
       "      <td>NaN</td>\n",
       "      <td>Adapter</td>\n",
       "      <td>POSITIVE</td>\n",
       "    </tr>\n",
       "    <tr>\n",
       "      <th>1</th>\n",
       "      <td>AVqkIhwDv8e3D1O-lebb</td>\n",
       "      <td>All-New Fire HD 8 Tablet, 8 HD Display, Wi-Fi,...</td>\n",
       "      <td>B01AHB9CN2</td>\n",
       "      <td>Amazon</td>\n",
       "      <td>Electronics,iPad &amp; Tablets,All Tablets,Fire Ta...</td>\n",
       "      <td>841667104676,amazon/53004484,amazon/b01ahb9cn2...</td>\n",
       "      <td>Amazon</td>\n",
       "      <td>2017-01-13T00:00:00.000Z</td>\n",
       "      <td>2017-07-03T23:33:15Z</td>\n",
       "      <td>2017-06-07T09:04:00.000Z,2017-04-30T00:45:00.000Z</td>\n",
       "      <td>...</td>\n",
       "      <td>NaN</td>\n",
       "      <td>0.0</td>\n",
       "      <td>5.0</td>\n",
       "      <td>http://reviews.bestbuy.com/3545/5620406/review...</td>\n",
       "      <td>great for beginner or experienced person. Boug...</td>\n",
       "      <td>very fast</td>\n",
       "      <td>NaN</td>\n",
       "      <td>NaN</td>\n",
       "      <td>truman</td>\n",
       "      <td>POSITIVE</td>\n",
       "    </tr>\n",
       "    <tr>\n",
       "      <th>2</th>\n",
       "      <td>AVqkIhwDv8e3D1O-lebb</td>\n",
       "      <td>All-New Fire HD 8 Tablet, 8 HD Display, Wi-Fi,...</td>\n",
       "      <td>B01AHB9CN2</td>\n",
       "      <td>Amazon</td>\n",
       "      <td>Electronics,iPad &amp; Tablets,All Tablets,Fire Ta...</td>\n",
       "      <td>841667104676,amazon/53004484,amazon/b01ahb9cn2...</td>\n",
       "      <td>Amazon</td>\n",
       "      <td>2017-01-13T00:00:00.000Z</td>\n",
       "      <td>2017-07-03T23:33:15Z</td>\n",
       "      <td>2017-06-07T09:04:00.000Z,2017-04-30T00:45:00.000Z</td>\n",
       "      <td>...</td>\n",
       "      <td>NaN</td>\n",
       "      <td>0.0</td>\n",
       "      <td>5.0</td>\n",
       "      <td>http://reviews.bestbuy.com/3545/5620406/review...</td>\n",
       "      <td>Inexpensive tablet for him to use and learn on...</td>\n",
       "      <td>Beginner tablet for our 9 year old son.</td>\n",
       "      <td>NaN</td>\n",
       "      <td>NaN</td>\n",
       "      <td>DaveZ</td>\n",
       "      <td>POSITIVE</td>\n",
       "    </tr>\n",
       "    <tr>\n",
       "      <th>3</th>\n",
       "      <td>AVqkIhwDv8e3D1O-lebb</td>\n",
       "      <td>All-New Fire HD 8 Tablet, 8 HD Display, Wi-Fi,...</td>\n",
       "      <td>B01AHB9CN2</td>\n",
       "      <td>Amazon</td>\n",
       "      <td>Electronics,iPad &amp; Tablets,All Tablets,Fire Ta...</td>\n",
       "      <td>841667104676,amazon/53004484,amazon/b01ahb9cn2...</td>\n",
       "      <td>Amazon</td>\n",
       "      <td>2017-01-13T00:00:00.000Z</td>\n",
       "      <td>2017-07-03T23:33:15Z</td>\n",
       "      <td>2017-06-07T09:04:00.000Z,2017-04-30T00:45:00.000Z</td>\n",
       "      <td>...</td>\n",
       "      <td>NaN</td>\n",
       "      <td>0.0</td>\n",
       "      <td>4.0</td>\n",
       "      <td>http://reviews.bestbuy.com/3545/5620406/review...</td>\n",
       "      <td>I've had my Fire HD 8 two weeks now and I love...</td>\n",
       "      <td>Good!!!</td>\n",
       "      <td>NaN</td>\n",
       "      <td>NaN</td>\n",
       "      <td>Shacks</td>\n",
       "      <td>POSITIVE</td>\n",
       "    </tr>\n",
       "    <tr>\n",
       "      <th>4</th>\n",
       "      <td>AVqkIhwDv8e3D1O-lebb</td>\n",
       "      <td>All-New Fire HD 8 Tablet, 8 HD Display, Wi-Fi,...</td>\n",
       "      <td>B01AHB9CN2</td>\n",
       "      <td>Amazon</td>\n",
       "      <td>Electronics,iPad &amp; Tablets,All Tablets,Fire Ta...</td>\n",
       "      <td>841667104676,amazon/53004484,amazon/b01ahb9cn2...</td>\n",
       "      <td>Amazon</td>\n",
       "      <td>2017-01-12T00:00:00.000Z</td>\n",
       "      <td>2017-07-03T23:33:15Z</td>\n",
       "      <td>2017-06-07T09:04:00.000Z,2017-04-30T00:45:00.000Z</td>\n",
       "      <td>...</td>\n",
       "      <td>NaN</td>\n",
       "      <td>0.0</td>\n",
       "      <td>5.0</td>\n",
       "      <td>http://reviews.bestbuy.com/3545/5620406/review...</td>\n",
       "      <td>I bought this for my grand daughter when she c...</td>\n",
       "      <td>Fantastic Tablet for kids</td>\n",
       "      <td>NaN</td>\n",
       "      <td>NaN</td>\n",
       "      <td>explore42</td>\n",
       "      <td>POSITIVE</td>\n",
       "    </tr>\n",
       "  </tbody>\n",
       "</table>\n",
       "<p>5 rows × 22 columns</p>\n",
       "</div>"
      ],
      "text/plain": [
       "                     id                                               name  \\\n",
       "0  AVqkIhwDv8e3D1O-lebb  All-New Fire HD 8 Tablet, 8 HD Display, Wi-Fi,...   \n",
       "1  AVqkIhwDv8e3D1O-lebb  All-New Fire HD 8 Tablet, 8 HD Display, Wi-Fi,...   \n",
       "2  AVqkIhwDv8e3D1O-lebb  All-New Fire HD 8 Tablet, 8 HD Display, Wi-Fi,...   \n",
       "3  AVqkIhwDv8e3D1O-lebb  All-New Fire HD 8 Tablet, 8 HD Display, Wi-Fi,...   \n",
       "4  AVqkIhwDv8e3D1O-lebb  All-New Fire HD 8 Tablet, 8 HD Display, Wi-Fi,...   \n",
       "\n",
       "        asins   brand                                         categories  \\\n",
       "0  B01AHB9CN2  Amazon  Electronics,iPad & Tablets,All Tablets,Fire Ta...   \n",
       "1  B01AHB9CN2  Amazon  Electronics,iPad & Tablets,All Tablets,Fire Ta...   \n",
       "2  B01AHB9CN2  Amazon  Electronics,iPad & Tablets,All Tablets,Fire Ta...   \n",
       "3  B01AHB9CN2  Amazon  Electronics,iPad & Tablets,All Tablets,Fire Ta...   \n",
       "4  B01AHB9CN2  Amazon  Electronics,iPad & Tablets,All Tablets,Fire Ta...   \n",
       "\n",
       "                                                keys manufacturer  \\\n",
       "0  841667104676,amazon/53004484,amazon/b01ahb9cn2...       Amazon   \n",
       "1  841667104676,amazon/53004484,amazon/b01ahb9cn2...       Amazon   \n",
       "2  841667104676,amazon/53004484,amazon/b01ahb9cn2...       Amazon   \n",
       "3  841667104676,amazon/53004484,amazon/b01ahb9cn2...       Amazon   \n",
       "4  841667104676,amazon/53004484,amazon/b01ahb9cn2...       Amazon   \n",
       "\n",
       "               reviews.date     reviews.dateAdded  \\\n",
       "0  2017-01-13T00:00:00.000Z  2017-07-03T23:33:15Z   \n",
       "1  2017-01-13T00:00:00.000Z  2017-07-03T23:33:15Z   \n",
       "2  2017-01-13T00:00:00.000Z  2017-07-03T23:33:15Z   \n",
       "3  2017-01-13T00:00:00.000Z  2017-07-03T23:33:15Z   \n",
       "4  2017-01-12T00:00:00.000Z  2017-07-03T23:33:15Z   \n",
       "\n",
       "                                    reviews.dateSeen      ...        \\\n",
       "0  2017-06-07T09:04:00.000Z,2017-04-30T00:45:00.000Z      ...         \n",
       "1  2017-06-07T09:04:00.000Z,2017-04-30T00:45:00.000Z      ...         \n",
       "2  2017-06-07T09:04:00.000Z,2017-04-30T00:45:00.000Z      ...         \n",
       "3  2017-06-07T09:04:00.000Z,2017-04-30T00:45:00.000Z      ...         \n",
       "4  2017-06-07T09:04:00.000Z,2017-04-30T00:45:00.000Z      ...         \n",
       "\n",
       "  reviews.id reviews.numHelpful  reviews.rating  \\\n",
       "0        NaN                0.0             5.0   \n",
       "1        NaN                0.0             5.0   \n",
       "2        NaN                0.0             5.0   \n",
       "3        NaN                0.0             4.0   \n",
       "4        NaN                0.0             5.0   \n",
       "\n",
       "                                  reviews.sourceURLs  \\\n",
       "0  http://reviews.bestbuy.com/3545/5620406/review...   \n",
       "1  http://reviews.bestbuy.com/3545/5620406/review...   \n",
       "2  http://reviews.bestbuy.com/3545/5620406/review...   \n",
       "3  http://reviews.bestbuy.com/3545/5620406/review...   \n",
       "4  http://reviews.bestbuy.com/3545/5620406/review...   \n",
       "\n",
       "                                        reviews.text  \\\n",
       "0  This product so far has not disappointed. My c...   \n",
       "1  great for beginner or experienced person. Boug...   \n",
       "2  Inexpensive tablet for him to use and learn on...   \n",
       "3  I've had my Fire HD 8 two weeks now and I love...   \n",
       "4  I bought this for my grand daughter when she c...   \n",
       "\n",
       "                             reviews.title reviews.userCity  \\\n",
       "0                                   Kindle              NaN   \n",
       "1                                very fast              NaN   \n",
       "2  Beginner tablet for our 9 year old son.              NaN   \n",
       "3                                  Good!!!              NaN   \n",
       "4                Fantastic Tablet for kids              NaN   \n",
       "\n",
       "  reviews.userProvince  reviews.username  review_rating  \n",
       "0                  NaN           Adapter       POSITIVE  \n",
       "1                  NaN            truman       POSITIVE  \n",
       "2                  NaN             DaveZ       POSITIVE  \n",
       "3                  NaN            Shacks       POSITIVE  \n",
       "4                  NaN         explore42       POSITIVE  \n",
       "\n",
       "[5 rows x 22 columns]"
      ]
     },
     "execution_count": 11,
     "metadata": {},
     "output_type": "execute_result"
    }
   ],
   "source": [
    "df.head()"
   ]
  },
  {
   "cell_type": "code",
   "execution_count": 12,
   "metadata": {},
   "outputs": [
    {
     "data": {
      "text/plain": [
       "POSITIVE    32316\n",
       "NEGATIVE     2344\n",
       "Name: review_rating, dtype: int64"
      ]
     },
     "execution_count": 12,
     "metadata": {},
     "output_type": "execute_result"
    }
   ],
   "source": [
    "df2=df\n",
    "df2.head()\n",
    "df2['review_rating'].value_counts()"
   ]
  },
  {
   "cell_type": "code",
   "execution_count": 13,
   "metadata": {},
   "outputs": [
    {
     "data": {
      "text/html": [
       "<div>\n",
       "<style scoped>\n",
       "    .dataframe tbody tr th:only-of-type {\n",
       "        vertical-align: middle;\n",
       "    }\n",
       "\n",
       "    .dataframe tbody tr th {\n",
       "        vertical-align: top;\n",
       "    }\n",
       "\n",
       "    .dataframe thead th {\n",
       "        text-align: right;\n",
       "    }\n",
       "</style>\n",
       "<table border=\"1\" class=\"dataframe\">\n",
       "  <thead>\n",
       "    <tr style=\"text-align: right;\">\n",
       "      <th></th>\n",
       "      <th>id</th>\n",
       "      <th>name</th>\n",
       "      <th>asins</th>\n",
       "      <th>brand</th>\n",
       "      <th>categories</th>\n",
       "      <th>keys</th>\n",
       "      <th>manufacturer</th>\n",
       "      <th>reviews.date</th>\n",
       "      <th>reviews.dateAdded</th>\n",
       "      <th>reviews.dateSeen</th>\n",
       "      <th>...</th>\n",
       "      <th>reviews.id</th>\n",
       "      <th>reviews.numHelpful</th>\n",
       "      <th>reviews.rating</th>\n",
       "      <th>reviews.sourceURLs</th>\n",
       "      <th>reviews.text</th>\n",
       "      <th>reviews.title</th>\n",
       "      <th>reviews.userCity</th>\n",
       "      <th>reviews.userProvince</th>\n",
       "      <th>reviews.username</th>\n",
       "      <th>review_rating</th>\n",
       "    </tr>\n",
       "  </thead>\n",
       "  <tbody>\n",
       "    <tr>\n",
       "      <th>117</th>\n",
       "      <td>AVqkIhwDv8e3D1O-lebb</td>\n",
       "      <td>All-New Fire HD 8 Tablet, 8 HD Display, Wi-Fi,...</td>\n",
       "      <td>B01AHB9CN2</td>\n",
       "      <td>Amazon</td>\n",
       "      <td>Electronics,iPad &amp; Tablets,All Tablets,Fire Ta...</td>\n",
       "      <td>841667104676,amazon/53004484,amazon/b01ahb9cn2...</td>\n",
       "      <td>Amazon</td>\n",
       "      <td>2017-01-08T00:00:00.000Z</td>\n",
       "      <td>2017-05-21T06:03:20Z</td>\n",
       "      <td>2017-04-30T00:45:00.000Z,2017-06-07T09:03:00.000Z</td>\n",
       "      <td>...</td>\n",
       "      <td>NaN</td>\n",
       "      <td>0.0</td>\n",
       "      <td>2.0</td>\n",
       "      <td>http://reviews.bestbuy.com/3545/5620406/review...</td>\n",
       "      <td>Didn't have some of the features I was looking...</td>\n",
       "      <td>Wasn't for me</td>\n",
       "      <td>NaN</td>\n",
       "      <td>NaN</td>\n",
       "      <td>Mark</td>\n",
       "      <td>NEGATIVE</td>\n",
       "    </tr>\n",
       "    <tr>\n",
       "      <th>126</th>\n",
       "      <td>AVqkIhwDv8e3D1O-lebb</td>\n",
       "      <td>All-New Fire HD 8 Tablet, 8 HD Display, Wi-Fi,...</td>\n",
       "      <td>B01AHB9CN2</td>\n",
       "      <td>Amazon</td>\n",
       "      <td>Electronics,iPad &amp; Tablets,All Tablets,Fire Ta...</td>\n",
       "      <td>841667104676,amazon/53004484,amazon/b01ahb9cn2...</td>\n",
       "      <td>Amazon</td>\n",
       "      <td>2017-01-10T00:00:00.000Z</td>\n",
       "      <td>2017-05-21T06:03:08Z</td>\n",
       "      <td>2017-04-30T00:45:00.000Z,2017-06-07T09:03:00.000Z</td>\n",
       "      <td>...</td>\n",
       "      <td>NaN</td>\n",
       "      <td>2.0</td>\n",
       "      <td>1.0</td>\n",
       "      <td>http://reviews.bestbuy.com/3545/5620406/review...</td>\n",
       "      <td>i Bought this around black friday for $60 hopi...</td>\n",
       "      <td>TERRIBLE DONT BUY</td>\n",
       "      <td>NaN</td>\n",
       "      <td>NaN</td>\n",
       "      <td>Brandon</td>\n",
       "      <td>NEGATIVE</td>\n",
       "    </tr>\n",
       "    <tr>\n",
       "      <th>169</th>\n",
       "      <td>AVqkIhwDv8e3D1O-lebb</td>\n",
       "      <td>All-New Fire HD 8 Tablet, 8 HD Display, Wi-Fi,...</td>\n",
       "      <td>B01AHB9CN2</td>\n",
       "      <td>Amazon</td>\n",
       "      <td>Electronics,iPad &amp; Tablets,All Tablets,Fire Ta...</td>\n",
       "      <td>841667104676,amazon/53004484,amazon/b01ahb9cn2...</td>\n",
       "      <td>Amazon</td>\n",
       "      <td>2016-11-25T00:00:00.000Z</td>\n",
       "      <td>2017-05-21T06:01:20Z</td>\n",
       "      <td>2017-04-30T00:44:00.000Z,2017-06-07T09:00:00.000Z</td>\n",
       "      <td>...</td>\n",
       "      <td>NaN</td>\n",
       "      <td>2.0</td>\n",
       "      <td>1.0</td>\n",
       "      <td>http://reviews.bestbuy.com/3545/5620406/review...</td>\n",
       "      <td>I bought this tablet for my 4 year old daughte...</td>\n",
       "      <td>Ended up returning</td>\n",
       "      <td>NaN</td>\n",
       "      <td>NaN</td>\n",
       "      <td>Mijenx</td>\n",
       "      <td>NEGATIVE</td>\n",
       "    </tr>\n",
       "    <tr>\n",
       "      <th>222</th>\n",
       "      <td>AVqkIhwDv8e3D1O-lebb</td>\n",
       "      <td>All-New Fire HD 8 Tablet, 8 HD Display, Wi-Fi,...</td>\n",
       "      <td>B01AHB9CN2</td>\n",
       "      <td>Amazon</td>\n",
       "      <td>Electronics,iPad &amp; Tablets,All Tablets,Fire Ta...</td>\n",
       "      <td>841667104676,amazon/53004484,amazon/b01ahb9cn2...</td>\n",
       "      <td>Amazon</td>\n",
       "      <td>2016-12-30T00:00:00.000Z</td>\n",
       "      <td>2017-05-21T05:59:48Z</td>\n",
       "      <td>2017-04-30T00:43:00.000Z,2017-06-07T09:03:00.000Z</td>\n",
       "      <td>...</td>\n",
       "      <td>NaN</td>\n",
       "      <td>0.0</td>\n",
       "      <td>3.0</td>\n",
       "      <td>http://reviews.bestbuy.com/3545/5620406/review...</td>\n",
       "      <td>I was hoping to use Google launcher with this ...</td>\n",
       "      <td>A cheap tablet</td>\n",
       "      <td>NaN</td>\n",
       "      <td>NaN</td>\n",
       "      <td>blargh22</td>\n",
       "      <td>NEGATIVE</td>\n",
       "    </tr>\n",
       "    <tr>\n",
       "      <th>226</th>\n",
       "      <td>AVqkIhwDv8e3D1O-lebb</td>\n",
       "      <td>All-New Fire HD 8 Tablet, 8 HD Display, Wi-Fi,...</td>\n",
       "      <td>B01AHB9CN2</td>\n",
       "      <td>Amazon</td>\n",
       "      <td>Electronics,iPad &amp; Tablets,All Tablets,Fire Ta...</td>\n",
       "      <td>841667104676,amazon/53004484,amazon/b01ahb9cn2...</td>\n",
       "      <td>Amazon</td>\n",
       "      <td>2017-01-03T00:00:00.000Z</td>\n",
       "      <td>2017-05-21T05:59:34Z</td>\n",
       "      <td>2017-04-30T00:43:00.000Z,2017-06-07T09:03:00.000Z</td>\n",
       "      <td>...</td>\n",
       "      <td>NaN</td>\n",
       "      <td>0.0</td>\n",
       "      <td>3.0</td>\n",
       "      <td>http://reviews.bestbuy.com/3545/5620406/review...</td>\n",
       "      <td>The tablet works fine. It is responsive with g...</td>\n",
       "      <td>Works well but too tied to Amazon.</td>\n",
       "      <td>NaN</td>\n",
       "      <td>NaN</td>\n",
       "      <td>AZ23b</td>\n",
       "      <td>NEGATIVE</td>\n",
       "    </tr>\n",
       "  </tbody>\n",
       "</table>\n",
       "<p>5 rows × 22 columns</p>\n",
       "</div>"
      ],
      "text/plain": [
       "                       id                                               name  \\\n",
       "117  AVqkIhwDv8e3D1O-lebb  All-New Fire HD 8 Tablet, 8 HD Display, Wi-Fi,...   \n",
       "126  AVqkIhwDv8e3D1O-lebb  All-New Fire HD 8 Tablet, 8 HD Display, Wi-Fi,...   \n",
       "169  AVqkIhwDv8e3D1O-lebb  All-New Fire HD 8 Tablet, 8 HD Display, Wi-Fi,...   \n",
       "222  AVqkIhwDv8e3D1O-lebb  All-New Fire HD 8 Tablet, 8 HD Display, Wi-Fi,...   \n",
       "226  AVqkIhwDv8e3D1O-lebb  All-New Fire HD 8 Tablet, 8 HD Display, Wi-Fi,...   \n",
       "\n",
       "          asins   brand                                         categories  \\\n",
       "117  B01AHB9CN2  Amazon  Electronics,iPad & Tablets,All Tablets,Fire Ta...   \n",
       "126  B01AHB9CN2  Amazon  Electronics,iPad & Tablets,All Tablets,Fire Ta...   \n",
       "169  B01AHB9CN2  Amazon  Electronics,iPad & Tablets,All Tablets,Fire Ta...   \n",
       "222  B01AHB9CN2  Amazon  Electronics,iPad & Tablets,All Tablets,Fire Ta...   \n",
       "226  B01AHB9CN2  Amazon  Electronics,iPad & Tablets,All Tablets,Fire Ta...   \n",
       "\n",
       "                                                  keys manufacturer  \\\n",
       "117  841667104676,amazon/53004484,amazon/b01ahb9cn2...       Amazon   \n",
       "126  841667104676,amazon/53004484,amazon/b01ahb9cn2...       Amazon   \n",
       "169  841667104676,amazon/53004484,amazon/b01ahb9cn2...       Amazon   \n",
       "222  841667104676,amazon/53004484,amazon/b01ahb9cn2...       Amazon   \n",
       "226  841667104676,amazon/53004484,amazon/b01ahb9cn2...       Amazon   \n",
       "\n",
       "                 reviews.date     reviews.dateAdded  \\\n",
       "117  2017-01-08T00:00:00.000Z  2017-05-21T06:03:20Z   \n",
       "126  2017-01-10T00:00:00.000Z  2017-05-21T06:03:08Z   \n",
       "169  2016-11-25T00:00:00.000Z  2017-05-21T06:01:20Z   \n",
       "222  2016-12-30T00:00:00.000Z  2017-05-21T05:59:48Z   \n",
       "226  2017-01-03T00:00:00.000Z  2017-05-21T05:59:34Z   \n",
       "\n",
       "                                      reviews.dateSeen      ...        \\\n",
       "117  2017-04-30T00:45:00.000Z,2017-06-07T09:03:00.000Z      ...         \n",
       "126  2017-04-30T00:45:00.000Z,2017-06-07T09:03:00.000Z      ...         \n",
       "169  2017-04-30T00:44:00.000Z,2017-06-07T09:00:00.000Z      ...         \n",
       "222  2017-04-30T00:43:00.000Z,2017-06-07T09:03:00.000Z      ...         \n",
       "226  2017-04-30T00:43:00.000Z,2017-06-07T09:03:00.000Z      ...         \n",
       "\n",
       "    reviews.id reviews.numHelpful  reviews.rating  \\\n",
       "117        NaN                0.0             2.0   \n",
       "126        NaN                2.0             1.0   \n",
       "169        NaN                2.0             1.0   \n",
       "222        NaN                0.0             3.0   \n",
       "226        NaN                0.0             3.0   \n",
       "\n",
       "                                    reviews.sourceURLs  \\\n",
       "117  http://reviews.bestbuy.com/3545/5620406/review...   \n",
       "126  http://reviews.bestbuy.com/3545/5620406/review...   \n",
       "169  http://reviews.bestbuy.com/3545/5620406/review...   \n",
       "222  http://reviews.bestbuy.com/3545/5620406/review...   \n",
       "226  http://reviews.bestbuy.com/3545/5620406/review...   \n",
       "\n",
       "                                          reviews.text  \\\n",
       "117  Didn't have some of the features I was looking...   \n",
       "126  i Bought this around black friday for $60 hopi...   \n",
       "169  I bought this tablet for my 4 year old daughte...   \n",
       "222  I was hoping to use Google launcher with this ...   \n",
       "226  The tablet works fine. It is responsive with g...   \n",
       "\n",
       "                          reviews.title reviews.userCity reviews.userProvince  \\\n",
       "117                       Wasn't for me              NaN                  NaN   \n",
       "126                   TERRIBLE DONT BUY              NaN                  NaN   \n",
       "169                  Ended up returning              NaN                  NaN   \n",
       "222                      A cheap tablet              NaN                  NaN   \n",
       "226  Works well but too tied to Amazon.              NaN                  NaN   \n",
       "\n",
       "     reviews.username  review_rating  \n",
       "117              Mark       NEGATIVE  \n",
       "126           Brandon       NEGATIVE  \n",
       "169            Mijenx       NEGATIVE  \n",
       "222          blargh22       NEGATIVE  \n",
       "226             AZ23b       NEGATIVE  \n",
       "\n",
       "[5 rows x 22 columns]"
      ]
     },
     "execution_count": 13,
     "metadata": {},
     "output_type": "execute_result"
    }
   ],
   "source": [
    "df_negative=df2[df2['review_rating']==\"NEGATIVE\"]\n",
    "df_negative.head()"
   ]
  },
  {
   "cell_type": "code",
   "execution_count": 14,
   "metadata": {},
   "outputs": [],
   "source": [
    "df_positive=df2[df2['review_rating']==\"POSITIVE\"]\n",
    "df_pos=df_positive.iloc[0:2343]"
   ]
  },
  {
   "cell_type": "code",
   "execution_count": 15,
   "metadata": {},
   "outputs": [
    {
     "data": {
      "text/html": [
       "<div>\n",
       "<style scoped>\n",
       "    .dataframe tbody tr th:only-of-type {\n",
       "        vertical-align: middle;\n",
       "    }\n",
       "\n",
       "    .dataframe tbody tr th {\n",
       "        vertical-align: top;\n",
       "    }\n",
       "\n",
       "    .dataframe thead th {\n",
       "        text-align: right;\n",
       "    }\n",
       "</style>\n",
       "<table border=\"1\" class=\"dataframe\">\n",
       "  <thead>\n",
       "    <tr style=\"text-align: right;\">\n",
       "      <th></th>\n",
       "      <th>id</th>\n",
       "      <th>name</th>\n",
       "      <th>asins</th>\n",
       "      <th>brand</th>\n",
       "      <th>categories</th>\n",
       "      <th>keys</th>\n",
       "      <th>manufacturer</th>\n",
       "      <th>reviews.date</th>\n",
       "      <th>reviews.dateAdded</th>\n",
       "      <th>reviews.dateSeen</th>\n",
       "      <th>...</th>\n",
       "      <th>reviews.id</th>\n",
       "      <th>reviews.numHelpful</th>\n",
       "      <th>reviews.rating</th>\n",
       "      <th>reviews.sourceURLs</th>\n",
       "      <th>reviews.text</th>\n",
       "      <th>reviews.title</th>\n",
       "      <th>reviews.userCity</th>\n",
       "      <th>reviews.userProvince</th>\n",
       "      <th>reviews.username</th>\n",
       "      <th>review_rating</th>\n",
       "    </tr>\n",
       "  </thead>\n",
       "  <tbody>\n",
       "    <tr>\n",
       "      <th>0</th>\n",
       "      <td>AVqkIhwDv8e3D1O-lebb</td>\n",
       "      <td>All-New Fire HD 8 Tablet, 8 HD Display, Wi-Fi,...</td>\n",
       "      <td>B01AHB9CN2</td>\n",
       "      <td>Amazon</td>\n",
       "      <td>Electronics,iPad &amp; Tablets,All Tablets,Fire Ta...</td>\n",
       "      <td>841667104676,amazon/53004484,amazon/b01ahb9cn2...</td>\n",
       "      <td>Amazon</td>\n",
       "      <td>2017-01-13T00:00:00.000Z</td>\n",
       "      <td>2017-07-03T23:33:15Z</td>\n",
       "      <td>2017-06-07T09:04:00.000Z,2017-04-30T00:45:00.000Z</td>\n",
       "      <td>...</td>\n",
       "      <td>NaN</td>\n",
       "      <td>0.0</td>\n",
       "      <td>5.0</td>\n",
       "      <td>http://reviews.bestbuy.com/3545/5620406/review...</td>\n",
       "      <td>This product so far has not disappointed. My c...</td>\n",
       "      <td>Kindle</td>\n",
       "      <td>NaN</td>\n",
       "      <td>NaN</td>\n",
       "      <td>Adapter</td>\n",
       "      <td>POSITIVE</td>\n",
       "    </tr>\n",
       "    <tr>\n",
       "      <th>1</th>\n",
       "      <td>AVqkIhwDv8e3D1O-lebb</td>\n",
       "      <td>All-New Fire HD 8 Tablet, 8 HD Display, Wi-Fi,...</td>\n",
       "      <td>B01AHB9CN2</td>\n",
       "      <td>Amazon</td>\n",
       "      <td>Electronics,iPad &amp; Tablets,All Tablets,Fire Ta...</td>\n",
       "      <td>841667104676,amazon/53004484,amazon/b01ahb9cn2...</td>\n",
       "      <td>Amazon</td>\n",
       "      <td>2017-01-13T00:00:00.000Z</td>\n",
       "      <td>2017-07-03T23:33:15Z</td>\n",
       "      <td>2017-06-07T09:04:00.000Z,2017-04-30T00:45:00.000Z</td>\n",
       "      <td>...</td>\n",
       "      <td>NaN</td>\n",
       "      <td>0.0</td>\n",
       "      <td>5.0</td>\n",
       "      <td>http://reviews.bestbuy.com/3545/5620406/review...</td>\n",
       "      <td>great for beginner or experienced person. Boug...</td>\n",
       "      <td>very fast</td>\n",
       "      <td>NaN</td>\n",
       "      <td>NaN</td>\n",
       "      <td>truman</td>\n",
       "      <td>POSITIVE</td>\n",
       "    </tr>\n",
       "    <tr>\n",
       "      <th>2</th>\n",
       "      <td>AVqkIhwDv8e3D1O-lebb</td>\n",
       "      <td>All-New Fire HD 8 Tablet, 8 HD Display, Wi-Fi,...</td>\n",
       "      <td>B01AHB9CN2</td>\n",
       "      <td>Amazon</td>\n",
       "      <td>Electronics,iPad &amp; Tablets,All Tablets,Fire Ta...</td>\n",
       "      <td>841667104676,amazon/53004484,amazon/b01ahb9cn2...</td>\n",
       "      <td>Amazon</td>\n",
       "      <td>2017-01-13T00:00:00.000Z</td>\n",
       "      <td>2017-07-03T23:33:15Z</td>\n",
       "      <td>2017-06-07T09:04:00.000Z,2017-04-30T00:45:00.000Z</td>\n",
       "      <td>...</td>\n",
       "      <td>NaN</td>\n",
       "      <td>0.0</td>\n",
       "      <td>5.0</td>\n",
       "      <td>http://reviews.bestbuy.com/3545/5620406/review...</td>\n",
       "      <td>Inexpensive tablet for him to use and learn on...</td>\n",
       "      <td>Beginner tablet for our 9 year old son.</td>\n",
       "      <td>NaN</td>\n",
       "      <td>NaN</td>\n",
       "      <td>DaveZ</td>\n",
       "      <td>POSITIVE</td>\n",
       "    </tr>\n",
       "    <tr>\n",
       "      <th>3</th>\n",
       "      <td>AVqkIhwDv8e3D1O-lebb</td>\n",
       "      <td>All-New Fire HD 8 Tablet, 8 HD Display, Wi-Fi,...</td>\n",
       "      <td>B01AHB9CN2</td>\n",
       "      <td>Amazon</td>\n",
       "      <td>Electronics,iPad &amp; Tablets,All Tablets,Fire Ta...</td>\n",
       "      <td>841667104676,amazon/53004484,amazon/b01ahb9cn2...</td>\n",
       "      <td>Amazon</td>\n",
       "      <td>2017-01-13T00:00:00.000Z</td>\n",
       "      <td>2017-07-03T23:33:15Z</td>\n",
       "      <td>2017-06-07T09:04:00.000Z,2017-04-30T00:45:00.000Z</td>\n",
       "      <td>...</td>\n",
       "      <td>NaN</td>\n",
       "      <td>0.0</td>\n",
       "      <td>4.0</td>\n",
       "      <td>http://reviews.bestbuy.com/3545/5620406/review...</td>\n",
       "      <td>I've had my Fire HD 8 two weeks now and I love...</td>\n",
       "      <td>Good!!!</td>\n",
       "      <td>NaN</td>\n",
       "      <td>NaN</td>\n",
       "      <td>Shacks</td>\n",
       "      <td>POSITIVE</td>\n",
       "    </tr>\n",
       "    <tr>\n",
       "      <th>4</th>\n",
       "      <td>AVqkIhwDv8e3D1O-lebb</td>\n",
       "      <td>All-New Fire HD 8 Tablet, 8 HD Display, Wi-Fi,...</td>\n",
       "      <td>B01AHB9CN2</td>\n",
       "      <td>Amazon</td>\n",
       "      <td>Electronics,iPad &amp; Tablets,All Tablets,Fire Ta...</td>\n",
       "      <td>841667104676,amazon/53004484,amazon/b01ahb9cn2...</td>\n",
       "      <td>Amazon</td>\n",
       "      <td>2017-01-12T00:00:00.000Z</td>\n",
       "      <td>2017-07-03T23:33:15Z</td>\n",
       "      <td>2017-06-07T09:04:00.000Z,2017-04-30T00:45:00.000Z</td>\n",
       "      <td>...</td>\n",
       "      <td>NaN</td>\n",
       "      <td>0.0</td>\n",
       "      <td>5.0</td>\n",
       "      <td>http://reviews.bestbuy.com/3545/5620406/review...</td>\n",
       "      <td>I bought this for my grand daughter when she c...</td>\n",
       "      <td>Fantastic Tablet for kids</td>\n",
       "      <td>NaN</td>\n",
       "      <td>NaN</td>\n",
       "      <td>explore42</td>\n",
       "      <td>POSITIVE</td>\n",
       "    </tr>\n",
       "  </tbody>\n",
       "</table>\n",
       "<p>5 rows × 22 columns</p>\n",
       "</div>"
      ],
      "text/plain": [
       "                     id                                               name  \\\n",
       "0  AVqkIhwDv8e3D1O-lebb  All-New Fire HD 8 Tablet, 8 HD Display, Wi-Fi,...   \n",
       "1  AVqkIhwDv8e3D1O-lebb  All-New Fire HD 8 Tablet, 8 HD Display, Wi-Fi,...   \n",
       "2  AVqkIhwDv8e3D1O-lebb  All-New Fire HD 8 Tablet, 8 HD Display, Wi-Fi,...   \n",
       "3  AVqkIhwDv8e3D1O-lebb  All-New Fire HD 8 Tablet, 8 HD Display, Wi-Fi,...   \n",
       "4  AVqkIhwDv8e3D1O-lebb  All-New Fire HD 8 Tablet, 8 HD Display, Wi-Fi,...   \n",
       "\n",
       "        asins   brand                                         categories  \\\n",
       "0  B01AHB9CN2  Amazon  Electronics,iPad & Tablets,All Tablets,Fire Ta...   \n",
       "1  B01AHB9CN2  Amazon  Electronics,iPad & Tablets,All Tablets,Fire Ta...   \n",
       "2  B01AHB9CN2  Amazon  Electronics,iPad & Tablets,All Tablets,Fire Ta...   \n",
       "3  B01AHB9CN2  Amazon  Electronics,iPad & Tablets,All Tablets,Fire Ta...   \n",
       "4  B01AHB9CN2  Amazon  Electronics,iPad & Tablets,All Tablets,Fire Ta...   \n",
       "\n",
       "                                                keys manufacturer  \\\n",
       "0  841667104676,amazon/53004484,amazon/b01ahb9cn2...       Amazon   \n",
       "1  841667104676,amazon/53004484,amazon/b01ahb9cn2...       Amazon   \n",
       "2  841667104676,amazon/53004484,amazon/b01ahb9cn2...       Amazon   \n",
       "3  841667104676,amazon/53004484,amazon/b01ahb9cn2...       Amazon   \n",
       "4  841667104676,amazon/53004484,amazon/b01ahb9cn2...       Amazon   \n",
       "\n",
       "               reviews.date     reviews.dateAdded  \\\n",
       "0  2017-01-13T00:00:00.000Z  2017-07-03T23:33:15Z   \n",
       "1  2017-01-13T00:00:00.000Z  2017-07-03T23:33:15Z   \n",
       "2  2017-01-13T00:00:00.000Z  2017-07-03T23:33:15Z   \n",
       "3  2017-01-13T00:00:00.000Z  2017-07-03T23:33:15Z   \n",
       "4  2017-01-12T00:00:00.000Z  2017-07-03T23:33:15Z   \n",
       "\n",
       "                                    reviews.dateSeen      ...        \\\n",
       "0  2017-06-07T09:04:00.000Z,2017-04-30T00:45:00.000Z      ...         \n",
       "1  2017-06-07T09:04:00.000Z,2017-04-30T00:45:00.000Z      ...         \n",
       "2  2017-06-07T09:04:00.000Z,2017-04-30T00:45:00.000Z      ...         \n",
       "3  2017-06-07T09:04:00.000Z,2017-04-30T00:45:00.000Z      ...         \n",
       "4  2017-06-07T09:04:00.000Z,2017-04-30T00:45:00.000Z      ...         \n",
       "\n",
       "  reviews.id reviews.numHelpful  reviews.rating  \\\n",
       "0        NaN                0.0             5.0   \n",
       "1        NaN                0.0             5.0   \n",
       "2        NaN                0.0             5.0   \n",
       "3        NaN                0.0             4.0   \n",
       "4        NaN                0.0             5.0   \n",
       "\n",
       "                                  reviews.sourceURLs  \\\n",
       "0  http://reviews.bestbuy.com/3545/5620406/review...   \n",
       "1  http://reviews.bestbuy.com/3545/5620406/review...   \n",
       "2  http://reviews.bestbuy.com/3545/5620406/review...   \n",
       "3  http://reviews.bestbuy.com/3545/5620406/review...   \n",
       "4  http://reviews.bestbuy.com/3545/5620406/review...   \n",
       "\n",
       "                                        reviews.text  \\\n",
       "0  This product so far has not disappointed. My c...   \n",
       "1  great for beginner or experienced person. Boug...   \n",
       "2  Inexpensive tablet for him to use and learn on...   \n",
       "3  I've had my Fire HD 8 two weeks now and I love...   \n",
       "4  I bought this for my grand daughter when she c...   \n",
       "\n",
       "                             reviews.title reviews.userCity  \\\n",
       "0                                   Kindle              NaN   \n",
       "1                                very fast              NaN   \n",
       "2  Beginner tablet for our 9 year old son.              NaN   \n",
       "3                                  Good!!!              NaN   \n",
       "4                Fantastic Tablet for kids              NaN   \n",
       "\n",
       "  reviews.userProvince  reviews.username  review_rating  \n",
       "0                  NaN           Adapter       POSITIVE  \n",
       "1                  NaN            truman       POSITIVE  \n",
       "2                  NaN             DaveZ       POSITIVE  \n",
       "3                  NaN            Shacks       POSITIVE  \n",
       "4                  NaN         explore42       POSITIVE  \n",
       "\n",
       "[5 rows x 22 columns]"
      ]
     },
     "execution_count": 15,
     "metadata": {},
     "output_type": "execute_result"
    }
   ],
   "source": [
    "amazon= pd.concat([df_pos,df_negative])\n",
    "amazon.head()"
   ]
  },
  {
   "cell_type": "code",
   "execution_count": 16,
   "metadata": {},
   "outputs": [],
   "source": [
    "amazon.to_csv('amazon_Reviews.csv', index=False)"
   ]
  },
  {
   "cell_type": "markdown",
   "metadata": {},
   "source": [
    "# Train Test Split"
   ]
  },
  {
   "cell_type": "code",
   "execution_count": 17,
   "metadata": {},
   "outputs": [],
   "source": [
    "X=df['reviews.text'].values.astype('U')\n",
    "y=df['review_rating']"
   ]
  },
  {
   "cell_type": "code",
   "execution_count": 18,
   "metadata": {},
   "outputs": [],
   "source": [
    "X1=amazon['reviews.text'].values.astype('U')\n",
    "y1=amazon['review_rating']"
   ]
  },
  {
   "cell_type": "code",
   "execution_count": 19,
   "metadata": {},
   "outputs": [],
   "source": [
    "from sklearn.model_selection import train_test_split\n",
    "\n",
    "X_train, X_test, y_train, y_test = train_test_split(X, y, test_size=0.33, random_state=42)"
   ]
  },
  {
   "cell_type": "code",
   "execution_count": 20,
   "metadata": {},
   "outputs": [],
   "source": [
    "#amazon df\n",
    "X1_train, X1_test, y1_train, y1_test = train_test_split(X1, y1, test_size=0.33, random_state=42)"
   ]
  },
  {
   "cell_type": "code",
   "execution_count": 21,
   "metadata": {},
   "outputs": [
    {
     "name": "stdout",
     "output_type": "stream",
     "text": [
      "I received this as a gift after my original Kindle Fire started giving me trouble after 4 1/2 years and wouldn't hold a charge. This new Kindle Fire 8 is fantastic! The larger size makes it easier to read. The \"buttons\" are better than the old one. I like that is has more \"perks\", i.e. camera, that my old one didn't have. It's nice to be able to read, play games, browse the internet, or check email or take photos. The battery lasts for days! I definitely recommend this.\n"
     ]
    }
   ],
   "source": [
    "print(X_test[0])"
   ]
  },
  {
   "cell_type": "code",
   "execution_count": 20,
   "metadata": {},
   "outputs": [
    {
     "name": "stdout",
     "output_type": "stream",
     "text": [
      "Saw it at my friend's house and thought it would be fun to have it. Looking forward to more added function in the future. I enjoy talking to Alexa every morning and evening after I get home. Now I play Spotify music and I Heart Radio through it and the speaker works great! Enjoy this new toy!\n"
     ]
    }
   ],
   "source": [
    "print(X_train[0])"
   ]
  },
  {
   "cell_type": "markdown",
   "metadata": {},
   "source": [
    "# Pre-Processing"
   ]
  },
  {
   "cell_type": "code",
   "execution_count": 3,
   "metadata": {},
   "outputs": [
    {
     "ename": "NameError",
     "evalue": "name 'X_train' is not defined",
     "output_type": "error",
     "traceback": [
      "\u001b[1;31m---------------------------------------------------------------------------\u001b[0m",
      "\u001b[1;31mNameError\u001b[0m                                 Traceback (most recent call last)",
      "\u001b[1;32m<ipython-input-3-b1e32cba05b7>\u001b[0m in \u001b[0;36m<module>\u001b[1;34m\u001b[0m\n\u001b[0;32m      2\u001b[0m \u001b[1;33m\u001b[0m\u001b[0m\n\u001b[0;32m      3\u001b[0m \u001b[0mvectorizer\u001b[0m\u001b[1;33m=\u001b[0m \u001b[0mCountVectorizer\u001b[0m\u001b[1;33m(\u001b[0m\u001b[1;33m)\u001b[0m\u001b[1;33m\u001b[0m\u001b[1;33m\u001b[0m\u001b[0m\n\u001b[1;32m----> 4\u001b[1;33m \u001b[0mX_train_vectors\u001b[0m\u001b[1;33m=\u001b[0m\u001b[0mvectorizer\u001b[0m\u001b[1;33m.\u001b[0m\u001b[0mfit_transform\u001b[0m\u001b[1;33m(\u001b[0m\u001b[0mX_train\u001b[0m\u001b[1;33m)\u001b[0m\u001b[1;33m\u001b[0m\u001b[1;33m\u001b[0m\u001b[0m\n\u001b[0m\u001b[0;32m      5\u001b[0m \u001b[0mX_test_vectors\u001b[0m \u001b[1;33m=\u001b[0m \u001b[0mvectorizer\u001b[0m\u001b[1;33m.\u001b[0m\u001b[0mtransform\u001b[0m\u001b[1;33m(\u001b[0m\u001b[0mX_test\u001b[0m\u001b[1;33m)\u001b[0m\u001b[1;33m\u001b[0m\u001b[1;33m\u001b[0m\u001b[0m\n",
      "\u001b[1;31mNameError\u001b[0m: name 'X_train' is not defined"
     ]
    }
   ],
   "source": [
    "from sklearn.feature_extraction.text import CountVectorizer ,TfidfVectorizer\n",
    "\n",
    "vectorizer= CountVectorizer()\n",
    "X_train_vectors=vectorizer.fit_transform(X_train)\n",
    "X_test_vectors = vectorizer.transform(X_test)"
   ]
  },
  {
   "cell_type": "code",
   "execution_count": 27,
   "metadata": {},
   "outputs": [],
   "source": [
    "#amazon df\n",
    "vectorizer= TfidfVectorizer()\n",
    "X1_train_vectors=vectorizer.fit_transform(X1_train)\n",
    "X1_test_vectors = vectorizer.transform(X1_test)"
   ]
  },
  {
   "cell_type": "markdown",
   "metadata": {},
   "source": [
    "# Classifier"
   ]
  },
  {
   "cell_type": "markdown",
   "metadata": {},
   "source": [
    "#### Linear SVM"
   ]
  },
  {
   "cell_type": "code",
   "execution_count": 28,
   "metadata": {},
   "outputs": [
    {
     "data": {
      "text/plain": [
       "array(['POSITIVE', 'POSITIVE', 'POSITIVE', ..., 'POSITIVE', 'POSITIVE',\n",
       "       'POSITIVE'], dtype=object)"
      ]
     },
     "execution_count": 28,
     "metadata": {},
     "output_type": "execute_result"
    }
   ],
   "source": [
    "from sklearn.svm import SVC\n",
    "model = SVC(kernel='linear')\n",
    "model.fit(X_train_vectors, y_train)\n",
    "model.predict(X_test_vectors)"
   ]
  },
  {
   "cell_type": "code",
   "execution_count": 29,
   "metadata": {},
   "outputs": [
    {
     "data": {
      "text/plain": [
       "array(['POSITIVE', 'NEGATIVE', 'NEGATIVE', ..., 'POSITIVE', 'NEGATIVE',\n",
       "       'NEGATIVE'], dtype=object)"
      ]
     },
     "execution_count": 29,
     "metadata": {},
     "output_type": "execute_result"
    }
   ],
   "source": [
    "#amazon df\n",
    "model_svm = SVC(kernel='linear')\n",
    "model_svm.fit(X1_train_vectors, y1_train)\n",
    "model_svm.predict(X1_test_vectors)"
   ]
  },
  {
   "cell_type": "markdown",
   "metadata": {},
   "source": [
    "#### Decision Tree"
   ]
  },
  {
   "cell_type": "code",
   "execution_count": 32,
   "metadata": {},
   "outputs": [
    {
     "data": {
      "text/plain": [
       "array(['NEGATIVE', 'POSITIVE', 'POSITIVE', ..., 'POSITIVE', 'POSITIVE',\n",
       "       'POSITIVE'], dtype=object)"
      ]
     },
     "execution_count": 32,
     "metadata": {},
     "output_type": "execute_result"
    }
   ],
   "source": [
    "from sklearn.tree import DecisionTreeClassifier\n",
    "model_tree = DecisionTreeClassifier()\n",
    "model_tree.fit(X_train_vectors, y_train)\n",
    "model_tree.predict(X_test_vectors)"
   ]
  },
  {
   "cell_type": "code",
   "execution_count": 33,
   "metadata": {},
   "outputs": [
    {
     "data": {
      "text/plain": [
       "array(['NEGATIVE', 'NEGATIVE', 'POSITIVE', ..., 'POSITIVE', 'POSITIVE',\n",
       "       'NEGATIVE'], dtype=object)"
      ]
     },
     "execution_count": 33,
     "metadata": {},
     "output_type": "execute_result"
    }
   ],
   "source": [
    "#amazon df\n",
    "model_tree1 = DecisionTreeClassifier()\n",
    "model_tree1.fit(X1_train_vectors, y1_train)\n",
    "model_tree1.predict(X1_test_vectors)"
   ]
  },
  {
   "cell_type": "code",
   "execution_count": 34,
   "metadata": {},
   "outputs": [
    {
     "data": {
      "text/plain": [
       "DecisionTreeClassifier(class_weight=None, criterion='gini', max_depth=None,\n",
       "            max_features=None, max_leaf_nodes=None,\n",
       "            min_impurity_decrease=0.0, min_impurity_split=None,\n",
       "            min_samples_leaf=1, min_samples_split=2,\n",
       "            min_weight_fraction_leaf=0.0, presort=False, random_state=None,\n",
       "            splitter='best')"
      ]
     },
     "execution_count": 34,
     "metadata": {},
     "output_type": "execute_result"
    }
   ],
   "source": [
    "model_tree1"
   ]
  },
  {
   "cell_type": "markdown",
   "metadata": {},
   "source": [
    "#### Logistic Regression "
   ]
  },
  {
   "cell_type": "code",
   "execution_count": 24,
   "metadata": {},
   "outputs": [
    {
     "name": "stderr",
     "output_type": "stream",
     "text": [
      "C:\\Users\\oddoy\\Anaconda3\\lib\\site-packages\\sklearn\\linear_model\\logistic.py:432: FutureWarning: Default solver will be changed to 'lbfgs' in 0.22. Specify a solver to silence this warning.\n",
      "  FutureWarning)\n"
     ]
    },
    {
     "data": {
      "text/plain": [
       "array(['POSITIVE', 'POSITIVE', 'POSITIVE', ..., 'POSITIVE', 'POSITIVE',\n",
       "       'POSITIVE'], dtype=object)"
      ]
     },
     "execution_count": 24,
     "metadata": {},
     "output_type": "execute_result"
    }
   ],
   "source": [
    "from sklearn.linear_model import LogisticRegression\n",
    "classifier = LogisticRegression()\n",
    "classifier.fit(X_train_vectors, y_train)\n",
    "classifier.predict(X_test_vectors)"
   ]
  },
  {
   "cell_type": "code",
   "execution_count": 25,
   "metadata": {},
   "outputs": [
    {
     "data": {
      "text/plain": [
       "array(['POSITIVE', 'NEGATIVE', 'NEGATIVE', ..., 'POSITIVE', 'NEGATIVE',\n",
       "       'NEGATIVE'], dtype=object)"
      ]
     },
     "execution_count": 25,
     "metadata": {},
     "output_type": "execute_result"
    }
   ],
   "source": [
    "#amazon df\n",
    "model_logreg = LogisticRegression()\n",
    "model_logreg.fit(X1_train_vectors, y1_train)\n",
    "model_logreg.predict(X1_test_vectors)"
   ]
  },
  {
   "cell_type": "markdown",
   "metadata": {},
   "source": [
    "#### Naive Bayes"
   ]
  },
  {
   "cell_type": "code",
   "execution_count": 26,
   "metadata": {},
   "outputs": [
    {
     "data": {
      "text/plain": [
       "array(['POSITIVE', 'NEGATIVE', 'NEGATIVE', ..., 'POSITIVE', 'NEGATIVE',\n",
       "       'NEGATIVE'], dtype='<U8')"
      ]
     },
     "execution_count": 26,
     "metadata": {},
     "output_type": "execute_result"
    }
   ],
   "source": [
    "from sklearn.naive_bayes import MultinomialNB\n",
    "#amazon df\n",
    "model_nb = MultinomialNB()\n",
    "model_nb.fit(X1_train_vectors,y1_train)\n",
    "model_nb.predict(X1_test_vectors)"
   ]
  },
  {
   "cell_type": "markdown",
   "metadata": {},
   "source": [
    "#### Random Forest "
   ]
  },
  {
   "cell_type": "code",
   "execution_count": 30,
   "metadata": {},
   "outputs": [
    {
     "data": {
      "text/plain": [
       "array(['POSITIVE', 'NEGATIVE', 'NEGATIVE', ..., 'POSITIVE', 'NEGATIVE',\n",
       "       'NEGATIVE'], dtype=object)"
      ]
     },
     "execution_count": 30,
     "metadata": {},
     "output_type": "execute_result"
    }
   ],
   "source": [
    "from sklearn.ensemble import RandomForestClassifier\n",
    "#amazon df\n",
    "rf = RandomForestClassifier(n_estimators=200)\n",
    "rf = rf.fit(X1_train_vectors,y1_train)\n",
    "rf.predict(X1_test_vectors)"
   ]
  },
  {
   "cell_type": "markdown",
   "metadata": {},
   "source": [
    "#### K Nearest Neighbors"
   ]
  },
  {
   "cell_type": "code",
   "execution_count": 35,
   "metadata": {},
   "outputs": [
    {
     "data": {
      "text/plain": [
       "array(['POSITIVE', 'NEGATIVE', 'NEGATIVE', ..., 'POSITIVE', 'NEGATIVE',\n",
       "       'NEGATIVE'], dtype=object)"
      ]
     },
     "execution_count": 35,
     "metadata": {},
     "output_type": "execute_result"
    }
   ],
   "source": [
    "from sklearn.neighbors import KNeighborsClassifier\n",
    "#amazon df\n",
    "knn = KNeighborsClassifier(n_neighbors=29)\n",
    "knn.fit(X1_train_vectors,y1_train)\n",
    "knn.predict(X1_test_vectors)"
   ]
  },
  {
   "cell_type": "markdown",
   "metadata": {},
   "source": [
    "# Evaluation"
   ]
  },
  {
   "cell_type": "markdown",
   "metadata": {},
   "source": [
    "`Support Vector Classifier`"
   ]
  },
  {
   "cell_type": "code",
   "execution_count": 36,
   "metadata": {},
   "outputs": [
    {
     "name": "stdout",
     "output_type": "stream",
     "text": [
      "Training Data Score for Support Vector Classifier: 0.9785978813194385\n",
      "Testing Data Score for Support Vector Classifier: 0.9361776534359154\n"
     ]
    }
   ],
   "source": [
    "print(f\"Training Data Score for Support Vector Classifier: {model.score(X_train_vectors, y_train)}\")\n",
    "print(f\"Testing Data Score for Support Vector Classifier: {model.score(X_test_vectors, y_test)}\")"
   ]
  },
  {
   "cell_type": "code",
   "execution_count": 37,
   "metadata": {},
   "outputs": [
    {
     "name": "stdout",
     "output_type": "stream",
     "text": [
      "Training Data Score for Support Vector Classifier: 0.9270700636942675\n",
      "Testing Data Score for Support Vector Classifier: 0.8151260504201681\n"
     ]
    }
   ],
   "source": [
    "#amazon df\n",
    "print(f\"Training Data Score for Support Vector Classifier: {model_svm.score(X1_train_vectors, y1_train)}\")\n",
    "print(f\"Testing Data Score for Support Vector Classifier: {model_svm.score(X1_test_vectors, y1_test)}\")"
   ]
  },
  {
   "cell_type": "markdown",
   "metadata": {},
   "source": [
    "`Decision Trees`"
   ]
  },
  {
   "cell_type": "code",
   "execution_count": 38,
   "metadata": {},
   "outputs": [
    {
     "name": "stdout",
     "output_type": "stream",
     "text": [
      "Training Data Score for Decision Tree: 1.0\n",
      "Testing Data Score for Decision Tree: 0.9110858541703095\n"
     ]
    }
   ],
   "source": [
    "print(f\"Training Data Score for Decision Tree: {model_tree.score(X_train_vectors, y_train)}\")\n",
    "print(f\"Testing Data Score for Decision Tree: {model_tree.score(X_test_vectors, y_test)}\")"
   ]
  },
  {
   "cell_type": "code",
   "execution_count": 39,
   "metadata": {},
   "outputs": [
    {
     "name": "stdout",
     "output_type": "stream",
     "text": [
      "Training Data Score for Decision Tree: 1.0\n",
      "Testing Data Score for Decision Tree: 0.7071751777634131\n"
     ]
    }
   ],
   "source": [
    "#amazon df\n",
    "print(f\"Training Data Score for Decision Tree: {model_tree1.score(X1_train_vectors, y1_train)}\")\n",
    "print(f\"Testing Data Score for Decision Tree: {model_tree1.score(X1_test_vectors, y1_test)}\")"
   ]
  },
  {
   "cell_type": "markdown",
   "metadata": {},
   "source": [
    "`Logistic Regression`"
   ]
  },
  {
   "cell_type": "code",
   "execution_count": 40,
   "metadata": {},
   "outputs": [
    {
     "ename": "NameError",
     "evalue": "name 'classifier' is not defined",
     "output_type": "error",
     "traceback": [
      "\u001b[1;31m---------------------------------------------------------------------------\u001b[0m",
      "\u001b[1;31mNameError\u001b[0m                                 Traceback (most recent call last)",
      "\u001b[1;32m<ipython-input-40-234282073686>\u001b[0m in \u001b[0;36m<module>\u001b[1;34m\u001b[0m\n\u001b[1;32m----> 1\u001b[1;33m \u001b[0mprint\u001b[0m\u001b[1;33m(\u001b[0m\u001b[1;34mf\"Training Data Score for Logistic Regression: {classifier.score(X_train_vectors, y_train)}\"\u001b[0m\u001b[1;33m)\u001b[0m\u001b[1;33m\u001b[0m\u001b[1;33m\u001b[0m\u001b[0m\n\u001b[0m\u001b[0;32m      2\u001b[0m \u001b[0mprint\u001b[0m\u001b[1;33m(\u001b[0m\u001b[1;34mf\"Testing Data Score for Logistic Regression: {classifier.score(X_test_vectors, y_test)}\"\u001b[0m\u001b[1;33m)\u001b[0m\u001b[1;33m\u001b[0m\u001b[1;33m\u001b[0m\u001b[0m\n",
      "\u001b[1;31mNameError\u001b[0m: name 'classifier' is not defined"
     ]
    }
   ],
   "source": [
    "print(f\"Training Data Score for Logistic Regression: {classifier.score(X_train_vectors, y_train)}\")\n",
    "print(f\"Testing Data Score for Logistic Regression: {classifier.score(X_test_vectors, y_test)}\")"
   ]
  },
  {
   "cell_type": "code",
   "execution_count": null,
   "metadata": {},
   "outputs": [],
   "source": [
    "#amazon df\n",
    "print(f\"Training Data Score for Logistic Regression: {model_logreg.score(X1_train_vectors, y1_train)}\")\n",
    "print(f\"Testing Data Score for Logistic Regression: {model_logreg.score(X1_test_vectors, y1_test)}\")"
   ]
  },
  {
   "cell_type": "markdown",
   "metadata": {},
   "source": [
    "`Naive Bayes`"
   ]
  },
  {
   "cell_type": "code",
   "execution_count": null,
   "metadata": {},
   "outputs": [],
   "source": [
    "#amazon df\n",
    "print(f\"Training Data Score for Naive Bayes: {model_nb.score(X1_train_vectors, y1_train)}\")\n",
    "print(f\"Testing Data Score for Naive Bayes: {model_nb.score(X1_test_vectors, y1_test)}\")"
   ]
  },
  {
   "cell_type": "markdown",
   "metadata": {},
   "source": [
    "`Random Forest`"
   ]
  },
  {
   "cell_type": "code",
   "execution_count": null,
   "metadata": {},
   "outputs": [],
   "source": [
    "#amazon df\n",
    "print(f\"Training Data Score for Random Forest: {rf.score(X1_train_vectors, y1_train)}\")\n",
    "print(f\"Testing Data Score for Random Forest: {rf.score(X1_test_vectors, y1_test)}\")"
   ]
  },
  {
   "cell_type": "markdown",
   "metadata": {},
   "source": [
    "`KNN`"
   ]
  },
  {
   "cell_type": "code",
   "execution_count": 41,
   "metadata": {},
   "outputs": [
    {
     "name": "stdout",
     "output_type": "stream",
     "text": [
      "Training Data Score for K-nearest Neighbors: 0.8012738853503185\n",
      "Testing Data Score for K-nearest Neighbors: 0.7899159663865546\n"
     ]
    }
   ],
   "source": [
    "print(f\"Training Data Score for K-nearest Neighbors: {knn.score(X1_train_vectors, y1_train)}\")\n",
    "print(f\"Testing Data Score for K-nearest Neighbors: {knn.score(X1_test_vectors, y1_test)}\")"
   ]
  },
  {
   "cell_type": "markdown",
   "metadata": {},
   "source": [
    "`Naive Bayes: Classification Reports`"
   ]
  },
  {
   "cell_type": "code",
   "execution_count": 42,
   "metadata": {},
   "outputs": [
    {
     "data": {
      "text/plain": [
       "array([0.96625682, 0.41223833])"
      ]
     },
     "execution_count": 42,
     "metadata": {},
     "output_type": "execute_result"
    }
   ],
   "source": [
    "from sklearn.metrics import f1_score\n",
    "from sklearn.metrics import classification_report\n",
    "\n",
    "f1_score(y_test,model.predict(X_test_vectors), average=None, labels=[\"POSITIVE\",\"NEGATIVE\"])"
   ]
  },
  {
   "cell_type": "code",
   "execution_count": 43,
   "metadata": {},
   "outputs": [
    {
     "data": {
      "text/plain": [
       "array([0.81548387, 0.81476684])"
      ]
     },
     "execution_count": 43,
     "metadata": {},
     "output_type": "execute_result"
    }
   ],
   "source": [
    "#amazon df\n",
    "f1_score(y1_test,model_svm.predict(X1_test_vectors), average=None, labels=[\"POSITIVE\",\"NEGATIVE\"])"
   ]
  },
  {
   "cell_type": "code",
   "execution_count": 44,
   "metadata": {},
   "outputs": [
    {
     "name": "stdout",
     "output_type": "stream",
     "text": [
      "              precision    recall  f1-score   support\n",
      "\n",
      "    NEGATIVE       0.81      0.82      0.81       767\n",
      "    POSITIVE       0.82      0.81      0.82       780\n",
      "\n",
      "   micro avg       0.82      0.82      0.82      1547\n",
      "   macro avg       0.82      0.82      0.82      1547\n",
      "weighted avg       0.82      0.82      0.82      1547\n",
      "\n"
     ]
    }
   ],
   "source": [
    "#amazon df\n",
    "predict_svm = model_svm.predict(X1_test_vectors)\n",
    "print(classification_report(y1_test,predict_svm))"
   ]
  },
  {
   "cell_type": "markdown",
   "metadata": {},
   "source": [
    "`Decision Trees: Classification Reports`"
   ]
  },
  {
   "cell_type": "code",
   "execution_count": 45,
   "metadata": {},
   "outputs": [
    {
     "data": {
      "text/plain": [
       "array([0.95258962, 0.28631579])"
      ]
     },
     "execution_count": 45,
     "metadata": {},
     "output_type": "execute_result"
    }
   ],
   "source": [
    "f1_score(y_test,model_tree.predict(X_test_vectors), average=None, labels=[\"POSITIVE\",\"NEGATIVE\"])"
   ]
  },
  {
   "cell_type": "code",
   "execution_count": 46,
   "metadata": {},
   "outputs": [
    {
     "data": {
      "text/plain": [
       "array([0.71563089, 0.6982012 ])"
      ]
     },
     "execution_count": 46,
     "metadata": {},
     "output_type": "execute_result"
    }
   ],
   "source": [
    "#amazon df\n",
    "f1_score(y1_test,model_tree1.predict(X1_test_vectors), average=None, labels=[\"POSITIVE\",\"NEGATIVE\"])"
   ]
  },
  {
   "cell_type": "code",
   "execution_count": 47,
   "metadata": {},
   "outputs": [
    {
     "name": "stdout",
     "output_type": "stream",
     "text": [
      "              precision    recall  f1-score   support\n",
      "\n",
      "    NEGATIVE       0.71      0.68      0.70       767\n",
      "    POSITIVE       0.70      0.73      0.72       780\n",
      "\n",
      "   micro avg       0.71      0.71      0.71      1547\n",
      "   macro avg       0.71      0.71      0.71      1547\n",
      "weighted avg       0.71      0.71      0.71      1547\n",
      "\n"
     ]
    }
   ],
   "source": [
    "#amazon df\n",
    "predict_tree = model_tree1.predict(X1_test_vectors)\n",
    "print(classification_report(y1_test,predict_tree))"
   ]
  },
  {
   "cell_type": "markdown",
   "metadata": {},
   "source": [
    "`Logisitic Regression: Classification Reports`"
   ]
  },
  {
   "cell_type": "code",
   "execution_count": 48,
   "metadata": {},
   "outputs": [
    {
     "ename": "NameError",
     "evalue": "name 'classifier' is not defined",
     "output_type": "error",
     "traceback": [
      "\u001b[1;31m---------------------------------------------------------------------------\u001b[0m",
      "\u001b[1;31mNameError\u001b[0m                                 Traceback (most recent call last)",
      "\u001b[1;32m<ipython-input-48-241127e15636>\u001b[0m in \u001b[0;36m<module>\u001b[1;34m\u001b[0m\n\u001b[1;32m----> 1\u001b[1;33m \u001b[0mf1_score\u001b[0m\u001b[1;33m(\u001b[0m\u001b[0my_test\u001b[0m\u001b[1;33m,\u001b[0m\u001b[0mclassifier\u001b[0m\u001b[1;33m.\u001b[0m\u001b[0mpredict\u001b[0m\u001b[1;33m(\u001b[0m\u001b[0mX_test_vectors\u001b[0m\u001b[1;33m)\u001b[0m\u001b[1;33m,\u001b[0m \u001b[0maverage\u001b[0m\u001b[1;33m=\u001b[0m\u001b[1;32mNone\u001b[0m\u001b[1;33m,\u001b[0m \u001b[0mlabels\u001b[0m\u001b[1;33m=\u001b[0m\u001b[1;33m[\u001b[0m\u001b[1;34m\"POSITIVE\"\u001b[0m\u001b[1;33m,\u001b[0m\u001b[1;34m\"NEGATIVE\"\u001b[0m\u001b[1;33m]\u001b[0m\u001b[1;33m)\u001b[0m\u001b[1;33m\u001b[0m\u001b[1;33m\u001b[0m\u001b[0m\n\u001b[0m",
      "\u001b[1;31mNameError\u001b[0m: name 'classifier' is not defined"
     ]
    }
   ],
   "source": [
    "f1_score(y_test,classifier.predict(X_test_vectors), average=None, labels=[\"POSITIVE\",\"NEGATIVE\"])"
   ]
  },
  {
   "cell_type": "code",
   "execution_count": null,
   "metadata": {},
   "outputs": [],
   "source": [
    "#amazon df\n",
    "f1_score(y1_test,model_logreg.predict(X1_test_vectors), average=None, labels=[\"POSITIVE\",\"NEGATIVE\"])"
   ]
  },
  {
   "cell_type": "code",
   "execution_count": null,
   "metadata": {},
   "outputs": [],
   "source": [
    "#amazon df\n",
    "predict_log = model_logreg.predict(X1_test_vectors)\n",
    "print(classification_report(y1_test,predict_log))"
   ]
  },
  {
   "cell_type": "markdown",
   "metadata": {},
   "source": [
    "`Naive Bayes: Classification Reports`"
   ]
  },
  {
   "cell_type": "code",
   "execution_count": null,
   "metadata": {},
   "outputs": [],
   "source": [
    "#amazon df\n",
    "f1_score(y1_test,model_nb.predict(X1_test_vectors), average=None, labels=[\"POSITIVE\",\"NEGATIVE\"])"
   ]
  },
  {
   "cell_type": "code",
   "execution_count": null,
   "metadata": {},
   "outputs": [],
   "source": [
    "pred_nb = model_nb.predict(X1_test_vectors)\n",
    "print(classification_report(y1_test, pred_nb))"
   ]
  },
  {
   "cell_type": "markdown",
   "metadata": {},
   "source": [
    "`Random Forest: Classification Reports`"
   ]
  },
  {
   "cell_type": "code",
   "execution_count": null,
   "metadata": {},
   "outputs": [],
   "source": [
    "#amazon df\n",
    "f1_score(y1_test,rf.predict(X1_test_vectors), average=None, labels=[\"POSITIVE\",\"NEGATIVE\"])"
   ]
  },
  {
   "cell_type": "code",
   "execution_count": null,
   "metadata": {},
   "outputs": [],
   "source": [
    "pred_rf = rf.predict(X1_test_vectors)\n",
    "print(classification_report(y1_test, pred_rf))"
   ]
  },
  {
   "cell_type": "markdown",
   "metadata": {},
   "source": [
    "`KNN: Classification Reports`"
   ]
  },
  {
   "cell_type": "code",
   "execution_count": null,
   "metadata": {},
   "outputs": [],
   "source": [
    "#amazon df\n",
    "f1_score(y1_test,knn.predict(X1_test_vectors), average=None, labels=[\"POSITIVE\",\"NEGATIVE\"])"
   ]
  },
  {
   "cell_type": "code",
   "execution_count": null,
   "metadata": {},
   "outputs": [],
   "source": [
    "pred_knn = knn.predict(X1_test_vectors)\n",
    "print(classification_report(y1_test, pred_knn))"
   ]
  },
  {
   "cell_type": "markdown",
   "metadata": {},
   "source": [
    "# Hyperparameter Tuning\n",
    "`GridSearchCV`"
   ]
  },
  {
   "cell_type": "code",
   "execution_count": null,
   "metadata": {},
   "outputs": [],
   "source": [
    "from sklearn.model_selection import GridSearchCV"
   ]
  },
  {
   "cell_type": "code",
   "execution_count": null,
   "metadata": {},
   "outputs": [],
   "source": [
    "#Naive Bayes\n",
    "param_grid = {'alpha': [0.0001, 0.001, 0.01, 1, 10, 20, 30, 40, 50, 100]\n",
    "         }\n",
    "grid_nb1 = GridSearchCV(model_nb, param_grid, verbose=3)"
   ]
  },
  {
   "cell_type": "code",
   "execution_count": 64,
   "metadata": {},
   "outputs": [],
   "source": [
    "#Logistic Regression\n",
    "param_grid = {'C': [0.0001, 0.001, 0.01,1, 5, 10, 100, 1000, 100000]\n",
    "         }\n",
    "grid_logreg1 = GridSearchCV(model_logreg, param_grid, verbose=3)"
   ]
  },
  {
   "cell_type": "code",
   "execution_count": 77,
   "metadata": {},
   "outputs": [],
   "source": [
    "#Support Vector Classifier \n",
    "param_grid = {'C': [1, 5, 10],\n",
    "              'gamma': [0.0001, 0.001, 0.01]}\n",
    "grid_svm1 = GridSearchCV(model_svm, param_grid, verbose=3)"
   ]
  },
  {
   "cell_type": "code",
   "execution_count": null,
   "metadata": {},
   "outputs": [],
   "source": [
    "#Random Forest WORK IN PROGRESS\n",
    "param_grid = {'alpha': [0.0001, 0.001, 0.01, 1, 10, 20, 30, 40, 50, 100]\n",
    "         }"
   ]
  },
  {
   "cell_type": "code",
   "execution_count": 66,
   "metadata": {},
   "outputs": [
    {
     "name": "stderr",
     "output_type": "stream",
     "text": [
      "C:\\Users\\oddoy\\Anaconda3\\lib\\site-packages\\sklearn\\model_selection\\_split.py:1978: FutureWarning: The default value of cv will change from 3 to 5 in version 0.22. Specify it explicitly to silence this warning.\n",
      "  warnings.warn(CV_WARNING, FutureWarning)\n",
      "[Parallel(n_jobs=1)]: Using backend SequentialBackend with 1 concurrent workers.\n"
     ]
    },
    {
     "name": "stdout",
     "output_type": "stream",
     "text": [
      "Fitting 3 folds for each of 10 candidates, totalling 30 fits\n",
      "[CV] alpha=0.0001 ....................................................\n",
      "[CV] ........................ alpha=0.0001, score=0.770, total=   0.1s\n",
      "[CV] alpha=0.0001 ....................................................\n",
      "[CV] ........................ alpha=0.0001, score=0.754, total=   0.0s\n",
      "[CV] alpha=0.0001 ....................................................\n",
      "[CV] ........................ alpha=0.0001, score=0.756, total=   0.0s\n",
      "[CV] alpha=0.001 .....................................................\n",
      "[CV] ......................... alpha=0.001, score=0.783, total=   0.0s"
     ]
    },
    {
     "name": "stderr",
     "output_type": "stream",
     "text": [
      "[Parallel(n_jobs=1)]: Done   1 out of   1 | elapsed:    0.0s remaining:    0.0s\n",
      "[Parallel(n_jobs=1)]: Done   2 out of   2 | elapsed:    0.1s remaining:    0.0s\n"
     ]
    },
    {
     "name": "stdout",
     "output_type": "stream",
     "text": [
      "\n",
      "[CV] alpha=0.001 .....................................................\n",
      "[CV] ......................... alpha=0.001, score=0.764, total=   0.0s\n",
      "[CV] alpha=0.001 .....................................................\n",
      "[CV] ......................... alpha=0.001, score=0.766, total=   0.0s\n",
      "[CV] alpha=0.01 ......................................................\n",
      "[CV] .......................... alpha=0.01, score=0.802, total=   0.0s\n",
      "[CV] alpha=0.01 ......................................................\n",
      "[CV] .......................... alpha=0.01, score=0.780, total=   0.0s\n",
      "[CV] alpha=0.01 ......................................................\n",
      "[CV] .......................... alpha=0.01, score=0.785, total=   0.0s\n",
      "[CV] alpha=1 .........................................................\n",
      "[CV] ............................. alpha=1, score=0.819, total=   0.0s\n",
      "[CV] alpha=1 .........................................................\n",
      "[CV] ............................. alpha=1, score=0.818, total=   0.0s\n",
      "[CV] alpha=1 .........................................................\n",
      "[CV] ............................. alpha=1, score=0.801, total=   0.0s\n",
      "[CV] alpha=10 ........................................................\n",
      "[CV] ............................ alpha=10, score=0.823, total=   0.0s\n",
      "[CV] alpha=10 ........................................................\n",
      "[CV] ............................ alpha=10, score=0.818, total=   0.0s\n",
      "[CV] alpha=10 ........................................................\n",
      "[CV] ............................ alpha=10, score=0.798, total=   0.0s\n",
      "[CV] alpha=20 ........................................................\n",
      "[CV] ............................ alpha=20, score=0.818, total=   0.0s\n",
      "[CV] alpha=20 ........................................................\n",
      "[CV] ............................ alpha=20, score=0.814, total=   0.0s\n",
      "[CV] alpha=20 ........................................................\n",
      "[CV] ............................ alpha=20, score=0.800, total=   0.0s\n",
      "[CV] alpha=30 ........................................................\n",
      "[CV] ............................ alpha=30, score=0.819, total=   0.0s\n",
      "[CV] alpha=30 ........................................................\n",
      "[CV] ............................ alpha=30, score=0.809, total=   0.0s\n",
      "[CV] alpha=30 ........................................................\n",
      "[CV] ............................ alpha=30, score=0.804, total=   0.0s\n",
      "[CV] alpha=40 ........................................................\n",
      "[CV] ............................ alpha=40, score=0.818, total=   0.0s\n",
      "[CV] alpha=40 ........................................................\n",
      "[CV] ............................ alpha=40, score=0.804, total=   0.0s\n",
      "[CV] alpha=40 ........................................................\n",
      "[CV] ............................ alpha=40, score=0.797, total=   0.0s\n",
      "[CV] alpha=50 ........................................................\n",
      "[CV] ............................ alpha=50, score=0.819, total=   0.0s\n",
      "[CV] alpha=50 ........................................................\n",
      "[CV] ............................ alpha=50, score=0.800, total=   0.0s\n",
      "[CV] alpha=50 ........................................................\n",
      "[CV] ............................ alpha=50, score=0.798, total=   0.0s\n",
      "[CV] alpha=100 .......................................................\n",
      "[CV] ........................... alpha=100, score=0.814, total=   0.0s\n",
      "[CV] alpha=100 .......................................................\n",
      "[CV] ........................... alpha=100, score=0.792, total=   0.0s\n",
      "[CV] alpha=100 .......................................................\n",
      "[CV] ........................... alpha=100, score=0.795, total=   0.0s\n"
     ]
    },
    {
     "name": "stderr",
     "output_type": "stream",
     "text": [
      "[Parallel(n_jobs=1)]: Done  30 out of  30 | elapsed:    0.4s finished\n"
     ]
    },
    {
     "data": {
      "text/plain": [
       "GridSearchCV(cv='warn', error_score='raise-deprecating',\n",
       "             estimator=MultinomialNB(alpha=1.0, class_prior=None,\n",
       "                                     fit_prior=True),\n",
       "             iid='warn', n_jobs=None,\n",
       "             param_grid={'alpha': [0.0001, 0.001, 0.01, 1, 10, 20, 30, 40, 50,\n",
       "                                   100]},\n",
       "             pre_dispatch='2*n_jobs', refit=True, return_train_score=False,\n",
       "             scoring=None, verbose=3)"
      ]
     },
     "execution_count": 66,
     "metadata": {},
     "output_type": "execute_result"
    }
   ],
   "source": [
    "#Naive Bayes\n",
    "grid_nb1.fit(X1_train_vectors, y1_train)"
   ]
  },
  {
   "cell_type": "code",
   "execution_count": 67,
   "metadata": {},
   "outputs": [
    {
     "name": "stderr",
     "output_type": "stream",
     "text": [
      "C:\\Users\\oddoy\\Anaconda3\\lib\\site-packages\\sklearn\\model_selection\\_split.py:1978: FutureWarning: The default value of cv will change from 3 to 5 in version 0.22. Specify it explicitly to silence this warning.\n",
      "  warnings.warn(CV_WARNING, FutureWarning)\n",
      "[Parallel(n_jobs=1)]: Using backend SequentialBackend with 1 concurrent workers.\n",
      "C:\\Users\\oddoy\\Anaconda3\\lib\\site-packages\\sklearn\\linear_model\\logistic.py:432: FutureWarning: Default solver will be changed to 'lbfgs' in 0.22. Specify a solver to silence this warning.\n",
      "  FutureWarning)\n",
      "[Parallel(n_jobs=1)]: Done   1 out of   1 | elapsed:    0.0s remaining:    0.0s\n",
      "[Parallel(n_jobs=1)]: Done   2 out of   2 | elapsed:    0.0s remaining:    0.0s\n"
     ]
    },
    {
     "name": "stdout",
     "output_type": "stream",
     "text": [
      "Fitting 3 folds for each of 9 candidates, totalling 27 fits\n",
      "[CV] C=0.0001 ........................................................\n",
      "[CV] ............................ C=0.0001, score=0.730, total=   0.0s\n",
      "[CV] C=0.0001 ........................................................\n",
      "[CV] ............................ C=0.0001, score=0.729, total=   0.0s\n",
      "[CV] C=0.0001 ........................................................\n",
      "[CV] ............................ C=0.0001, score=0.703, total=   0.0s\n",
      "[CV] C=0.001 .........................................................\n",
      "[CV] ............................. C=0.001, score=0.755, total=   0.0s\n",
      "[CV] C=0.001 .........................................................\n",
      "[CV] ............................. C=0.001, score=0.747, total=   0.0s\n",
      "[CV] C=0.001 .........................................................\n",
      "[CV] ............................. C=0.001, score=0.741, total=   0.0s\n",
      "[CV] C=0.01 ..........................................................\n",
      "[CV] .............................. C=0.01, score=0.788, total=   0.0s\n",
      "[CV] C=0.01 ..........................................................\n",
      "[CV] .............................. C=0.01, score=0.777, total=   0.0s\n",
      "[CV] C=0.01 ..........................................................\n",
      "[CV] .............................. C=0.01, score=0.790, total=   0.0s\n",
      "[CV] C=1 .............................................................\n",
      "[CV] ................................. C=1, score=0.833, total=   0.0s\n",
      "[CV] C=1 .............................................................\n",
      "[CV] ................................. C=1, score=0.819, total=   0.0s\n",
      "[CV] C=1 .............................................................\n",
      "[CV] ................................. C=1, score=0.811, total=   0.0s\n",
      "[CV] C=5 .............................................................\n",
      "[CV] ................................. C=5, score=0.832, total=   0.0s\n",
      "[CV] C=5 .............................................................\n",
      "[CV] ................................. C=5, score=0.823, total=   0.0s\n",
      "[CV] C=5 .............................................................\n",
      "[CV] ................................. C=5, score=0.806, total=   0.0s\n",
      "[CV] C=10 ............................................................\n",
      "[CV] ................................ C=10, score=0.820, total=   0.0s\n",
      "[CV] C=10 ............................................................\n",
      "[CV] ................................ C=10, score=0.823, total=   0.0s\n",
      "[CV] C=10 ............................................................\n",
      "[CV] ................................ C=10, score=0.799, total=   0.0s\n",
      "[CV] C=100 ...........................................................\n",
      "[CV] ............................... C=100, score=0.796, total=   0.0s\n",
      "[CV] C=100 ...........................................................\n",
      "[CV] ............................... C=100, score=0.802, total=   0.1s\n",
      "[CV] C=100 ...........................................................\n",
      "[CV] ............................... C=100, score=0.781, total=   0.0s\n",
      "[CV] C=1000 ..........................................................\n",
      "[CV] .............................. C=1000, score=0.776, total=   0.1s\n",
      "[CV] C=1000 ..........................................................\n",
      "[CV] .............................. C=1000, score=0.792, total=   0.0s\n",
      "[CV] C=1000 ..........................................................\n",
      "[CV] .............................. C=1000, score=0.762, total=   0.1s\n",
      "[CV] C=100000 ........................................................\n",
      "[CV] ............................ C=100000, score=0.752, total=   0.1s\n",
      "[CV] C=100000 ........................................................\n",
      "[CV] ............................ C=100000, score=0.771, total=   0.1s\n",
      "[CV] C=100000 ........................................................\n",
      "[CV] ............................ C=100000, score=0.743, total=   0.1s\n"
     ]
    },
    {
     "name": "stderr",
     "output_type": "stream",
     "text": [
      "[Parallel(n_jobs=1)]: Done  27 out of  27 | elapsed:    0.8s finished\n"
     ]
    },
    {
     "data": {
      "text/plain": [
       "GridSearchCV(cv='warn', error_score='raise-deprecating',\n",
       "             estimator=LogisticRegression(C=1.0, class_weight=None, dual=False,\n",
       "                                          fit_intercept=True,\n",
       "                                          intercept_scaling=1, l1_ratio=None,\n",
       "                                          max_iter=100, multi_class='warn',\n",
       "                                          n_jobs=None, penalty='l2',\n",
       "                                          random_state=None, solver='warn',\n",
       "                                          tol=0.0001, verbose=0,\n",
       "                                          warm_start=False),\n",
       "             iid='warn', n_jobs=None,\n",
       "             param_grid={'C': [0.0001, 0.001, 0.01, 1, 5, 10, 100, 1000,\n",
       "                               100000]},\n",
       "             pre_dispatch='2*n_jobs', refit=True, return_train_score=False,\n",
       "             scoring=None, verbose=3)"
      ]
     },
     "execution_count": 67,
     "metadata": {},
     "output_type": "execute_result"
    }
   ],
   "source": [
    "#Logistic Regression\n",
    "grid_logreg1.fit(X1_train_vectors, y1_train)"
   ]
  },
  {
   "cell_type": "code",
   "execution_count": 68,
   "metadata": {},
   "outputs": [
    {
     "name": "stdout",
     "output_type": "stream",
     "text": [
      "Fitting 3 folds for each of 9 candidates, totalling 27 fits\n",
      "[CV] C=1, gamma=0.0001 ...............................................\n"
     ]
    },
    {
     "name": "stderr",
     "output_type": "stream",
     "text": [
      "C:\\Users\\oddoy\\Anaconda3\\lib\\site-packages\\sklearn\\model_selection\\_split.py:1978: FutureWarning: The default value of cv will change from 3 to 5 in version 0.22. Specify it explicitly to silence this warning.\n",
      "  warnings.warn(CV_WARNING, FutureWarning)\n",
      "[Parallel(n_jobs=1)]: Using backend SequentialBackend with 1 concurrent workers.\n"
     ]
    },
    {
     "name": "stdout",
     "output_type": "stream",
     "text": [
      "[CV] ................... C=1, gamma=0.0001, score=0.824, total=   1.3s\n",
      "[CV] C=1, gamma=0.0001 ...............................................\n"
     ]
    },
    {
     "name": "stderr",
     "output_type": "stream",
     "text": [
      "[Parallel(n_jobs=1)]: Done   1 out of   1 | elapsed:    1.2s remaining:    0.0s\n"
     ]
    },
    {
     "name": "stdout",
     "output_type": "stream",
     "text": [
      "[CV] ................... C=1, gamma=0.0001, score=0.819, total=   1.3s\n",
      "[CV] C=1, gamma=0.0001 ...............................................\n"
     ]
    },
    {
     "name": "stderr",
     "output_type": "stream",
     "text": [
      "[Parallel(n_jobs=1)]: Done   2 out of   2 | elapsed:    2.6s remaining:    0.0s\n"
     ]
    },
    {
     "name": "stdout",
     "output_type": "stream",
     "text": [
      "[CV] ................... C=1, gamma=0.0001, score=0.809, total=   1.3s\n",
      "[CV] C=1, gamma=0.001 ................................................\n",
      "[CV] .................... C=1, gamma=0.001, score=0.824, total=   1.3s\n",
      "[CV] C=1, gamma=0.001 ................................................\n",
      "[CV] .................... C=1, gamma=0.001, score=0.819, total=   1.3s\n",
      "[CV] C=1, gamma=0.001 ................................................\n",
      "[CV] .................... C=1, gamma=0.001, score=0.809, total=   1.3s\n",
      "[CV] C=1, gamma=0.01 .................................................\n",
      "[CV] ..................... C=1, gamma=0.01, score=0.824, total=   1.3s\n",
      "[CV] C=1, gamma=0.01 .................................................\n",
      "[CV] ..................... C=1, gamma=0.01, score=0.819, total=   1.3s\n",
      "[CV] C=1, gamma=0.01 .................................................\n",
      "[CV] ..................... C=1, gamma=0.01, score=0.809, total=   1.3s\n",
      "[CV] C=5, gamma=0.0001 ...............................................\n",
      "[CV] ................... C=5, gamma=0.0001, score=0.791, total=   1.3s\n",
      "[CV] C=5, gamma=0.0001 ...............................................\n",
      "[CV] ................... C=5, gamma=0.0001, score=0.801, total=   1.2s\n",
      "[CV] C=5, gamma=0.0001 ...............................................\n",
      "[CV] ................... C=5, gamma=0.0001, score=0.777, total=   1.3s\n",
      "[CV] C=5, gamma=0.001 ................................................\n",
      "[CV] .................... C=5, gamma=0.001, score=0.791, total=   1.3s\n",
      "[CV] C=5, gamma=0.001 ................................................\n",
      "[CV] .................... C=5, gamma=0.001, score=0.801, total=   1.2s\n",
      "[CV] C=5, gamma=0.001 ................................................\n",
      "[CV] .................... C=5, gamma=0.001, score=0.777, total=   1.2s\n",
      "[CV] C=5, gamma=0.01 .................................................\n",
      "[CV] ..................... C=5, gamma=0.01, score=0.791, total=   1.3s\n",
      "[CV] C=5, gamma=0.01 .................................................\n",
      "[CV] ..................... C=5, gamma=0.01, score=0.801, total=   1.2s\n",
      "[CV] C=5, gamma=0.01 .................................................\n",
      "[CV] ..................... C=5, gamma=0.01, score=0.777, total=   1.3s\n",
      "[CV] C=10, gamma=0.0001 ..............................................\n",
      "[CV] .................. C=10, gamma=0.0001, score=0.778, total=   1.7s\n",
      "[CV] C=10, gamma=0.0001 ..............................................\n",
      "[CV] .................. C=10, gamma=0.0001, score=0.790, total=   1.2s\n",
      "[CV] C=10, gamma=0.0001 ..............................................\n",
      "[CV] .................. C=10, gamma=0.0001, score=0.755, total=   1.7s\n",
      "[CV] C=10, gamma=0.001 ...............................................\n",
      "[CV] ................... C=10, gamma=0.001, score=0.778, total=   1.6s\n",
      "[CV] C=10, gamma=0.001 ...............................................\n",
      "[CV] ................... C=10, gamma=0.001, score=0.790, total=   1.2s\n",
      "[CV] C=10, gamma=0.001 ...............................................\n",
      "[CV] ................... C=10, gamma=0.001, score=0.755, total=   1.5s\n",
      "[CV] C=10, gamma=0.01 ................................................\n",
      "[CV] .................... C=10, gamma=0.01, score=0.778, total=   1.5s\n",
      "[CV] C=10, gamma=0.01 ................................................\n",
      "[CV] .................... C=10, gamma=0.01, score=0.790, total=   1.2s\n",
      "[CV] C=10, gamma=0.01 ................................................\n",
      "[CV] .................... C=10, gamma=0.01, score=0.755, total=   1.5s\n"
     ]
    },
    {
     "name": "stderr",
     "output_type": "stream",
     "text": [
      "[Parallel(n_jobs=1)]: Done  27 out of  27 | elapsed:   36.2s finished\n"
     ]
    },
    {
     "data": {
      "text/plain": [
       "GridSearchCV(cv='warn', error_score='raise-deprecating',\n",
       "             estimator=SVC(C=1.0, cache_size=200, class_weight=None, coef0=0.0,\n",
       "                           decision_function_shape='ovr', degree=3,\n",
       "                           gamma='auto_deprecated', kernel='linear',\n",
       "                           max_iter=-1, probability=False, random_state=None,\n",
       "                           shrinking=True, tol=0.001, verbose=False),\n",
       "             iid='warn', n_jobs=None,\n",
       "             param_grid={'C': [1, 5, 10], 'gamma': [0.0001, 0.001, 0.01]},\n",
       "             pre_dispatch='2*n_jobs', refit=True, return_train_score=False,\n",
       "             scoring=None, verbose=3)"
      ]
     },
     "execution_count": 68,
     "metadata": {},
     "output_type": "execute_result"
    }
   ],
   "source": [
    "#Support Vector Machine\n",
    "grid_svm1.fit(X1_train_vectors, y1_train)"
   ]
  },
  {
   "cell_type": "code",
   "execution_count": null,
   "metadata": {},
   "outputs": [],
   "source": []
  },
  {
   "cell_type": "code",
   "execution_count": null,
   "metadata": {},
   "outputs": [],
   "source": []
  },
  {
   "cell_type": "code",
   "execution_count": 72,
   "metadata": {},
   "outputs": [
    {
     "name": "stdout",
     "output_type": "stream",
     "text": [
      "{'alpha': 10}\n",
      "0.8130573248407643\n"
     ]
    }
   ],
   "source": [
    "#Naive Bayes\n",
    "print(grid_nb1.best_params_)\n",
    "print(grid_nb1.best_score_)"
   ]
  },
  {
   "cell_type": "code",
   "execution_count": 70,
   "metadata": {},
   "outputs": [
    {
     "name": "stdout",
     "output_type": "stream",
     "text": [
      "{'C': 1}\n",
      "0.8210191082802548\n"
     ]
    }
   ],
   "source": [
    "#Logistic Regression\n",
    "print(grid_logreg1.best_params_)\n",
    "print(grid_logreg1.best_score_)"
   ]
  },
  {
   "cell_type": "code",
   "execution_count": 71,
   "metadata": {},
   "outputs": [
    {
     "name": "stdout",
     "output_type": "stream",
     "text": [
      "{'C': 1, 'gamma': 0.0001}\n",
      "0.817515923566879\n"
     ]
    }
   ],
   "source": [
    "#Support Vector Machine\n",
    "print(grid_svm1.best_params_)\n",
    "print(grid_svm1.best_score_)"
   ]
  },
  {
   "cell_type": "markdown",
   "metadata": {},
   "source": [
    "# Testing the Best Model (Naive Bayes)"
   ]
  },
  {
   "cell_type": "code",
   "execution_count": 78,
   "metadata": {},
   "outputs": [
    {
     "data": {
      "text/plain": [
       "array(['POSITIVE', 'NEGATIVE'], dtype='<U8')"
      ]
     },
     "execution_count": 78,
     "metadata": {},
     "output_type": "execute_result"
    }
   ],
   "source": [
    "test_set = [\"this product was reliable\",\"\"]\n",
    "new_test= vectorizer.transform(test_set)\n",
    "model_nb.predict(new_test)"
   ]
  },
  {
   "cell_type": "markdown",
   "metadata": {},
   "source": [
    "# Model Visualizations"
   ]
  },
  {
   "cell_type": "code",
   "execution_count": 83,
   "metadata": {},
   "outputs": [],
   "source": [
    "from sklearn.metrics import confusion_matrix\n",
    "import seaborn as sn\n",
    "import matplotlib.pyplot as plt\n",
    "import numpy as np"
   ]
  },
  {
   "cell_type": "markdown",
   "metadata": {},
   "source": [
    "`Logistic Regression`"
   ]
  },
  {
   "cell_type": "code",
   "execution_count": 82,
   "metadata": {},
   "outputs": [
    {
     "data": {
      "image/png": "[encoded data removed]",
      "text/plain": [
       "<Figure size 432x288 with 1 Axes>"
      ]
     },
     "metadata": {
      "needs_background": "light"
     },
     "output_type": "display_data"
    }
   ],
   "source": [
    "y_pred_log = model_logreg.predict(X1_test_vectors)\n",
    "cm = confusion_matrix(y1_test, y_pred_log)\n",
    "plt.clf()\n",
    "plt.imshow(cm, interpolation='nearest', cmap=plt.cm.Wistia)\n",
    "classNames = ['Negative','Positive']\n",
    "plt.title('Reviews - Positive or Negative - Confusion Matrix - Logistic Regression\\n')\n",
    "plt.ylabel('True label\\n')\n",
    "plt.xlabel('\\nPredicted label')\n",
    "tick_marks = np.arange(len(classNames))\n",
    "plt.xticks(tick_marks, classNames, rotation=90)\n",
    "plt.yticks(tick_marks, classNames)\n",
    "s = [['TN','FP'], ['FN', 'TP']]\n",
    "for i in range(2):\n",
    "    for j in range(2):\n",
    "        plt.text(j,i, str(s[i][j])+\" = \"+str(cm[i][j]))\n",
    "plt.show()"
   ]
  },
  {
   "cell_type": "code",
   "execution_count": 84,
   "metadata": {},
   "outputs": [
    {
     "data": {
      "text/plain": [
       "<matplotlib.axes._subplots.AxesSubplot at 0x1d50db195c8>"
      ]
     },
     "execution_count": 84,
     "metadata": {},
     "output_type": "execute_result"
    },
    {
     "data": {
      "image/png": "[encoded data removed]",
      "text/plain": [
       "<Figure size 432x288 with 2 Axes>"
      ]
     },
     "metadata": {
      "needs_background": "light"
     },
     "output_type": "display_data"
    }
   ],
   "source": [
    "y_pred = model_logreg.predict(X1_test_vectors)\n",
    "\n",
    "labels=['POSITIVE','NEGATIVE']\n",
    "cm= confusion_matrix(y1_test, y_pred, labels = labels)\n",
    "df_cm = pd.DataFrame(cm, index=['POSITIVE','NEGATIVE'],columns=labels)\n",
    "\n",
    "sn.heatmap(df_cm, annot=True, fmt='d', cmap=plt.cm.Wistia)"
   ]
  },
  {
   "cell_type": "markdown",
   "metadata": {},
   "source": [
    "`Logistic Regression`"
   ]
  },
  {
   "cell_type": "code",
   "execution_count": 85,
   "metadata": {},
   "outputs": [
    {
     "data": {
      "text/plain": [
       "<matplotlib.axes._subplots.AxesSubplot at 0x1d50daef748>"
      ]
     },
     "execution_count": 85,
     "metadata": {},
     "output_type": "execute_result"
    },
    {
     "data": {
      "image/png": "[encoded data removed]",
      "text/plain": [
       "<Figure size 432x288 with 2 Axes>"
      ]
     },
     "metadata": {
      "needs_background": "light"
     },
     "output_type": "display_data"
    }
   ],
   "source": [
    "y_pred3 = model_nb.predict(X1_test_vectors)\n",
    "\n",
    "labels=['POSITIVE','NEGATIVE']\n",
    "cm= confusion_matrix(y1_test, y_pred3, labels = labels)\n",
    "df_cm = pd.DataFrame(cm, index=['POSITIVE','NEGATIVE'],columns=labels)\n",
    "\n",
    "sn.heatmap(df_cm, annot=True, fmt='d', cmap=plt.cm.Wistia)\n"
   ]
  },
  {
   "cell_type": "code",
   "execution_count": 92,
   "metadata": {},
   "outputs": [
    {
     "name": "stdout",
     "output_type": "stream",
     "text": [
      "[81.5126050420168, 82.48222365869424, 69.55397543632837, 80.47834518422754, 78.99159663865547, 82.28829993535875]\n"
     ]
    },
    {
     "data": {
      "image/png": "[encoded data removed]",
      "text/plain": [
       "<Figure size 432x288 with 1 Axes>"
      ]
     },
     "metadata": {
      "needs_background": "light"
     },
     "output_type": "display_data"
    }
   ],
   "source": [
    "accuracy_score_list = []\n",
    "accuracy_score_list.append(model_svm.score(X1_test_vectors, y1_test)*100)\n",
    "accuracy_score_list.append(model_nb.score(X1_test_vectors, y1_test)*100)\n",
    "accuracy_score_list.append(model_tree1.score(X1_test_vectors, y1_test)*100)\n",
    "accuracy_score_list.append(rf.score(X1_test_vectors, y1_test)*100)\n",
    "accuracy_score_list.append(knn.score(X1_test_vectors, y1_test)*100)\n",
    "accuracy_score_list.append(model_logreg.score(X1_test_vectors, y1_test)*100)\n",
    "y_axis = accuracy_score_list\n",
    "print(accuracy_score_list)\n",
    "models_list = [\"SVC\",\"Naive Bayes\",\"Decision Tree\",\"Random Forest\",\"KNN\",\"Logistic Regression\"]\n",
    "x_axis = [1,2,3,4,5,6]\n",
    "plt.bar(x_axis, y_axis,color= \"green\")\n",
    "plt.xticks(x_axis,models_list,rotation=45)\n",
    "plt.show()"
   ]
  },
  {
   "cell_type": "code",
   "execution_count": 86,
   "metadata": {},
   "outputs": [
    {
     "data": {
      "text/plain": [
       "array([[656, 124],\n",
       "       [147, 620]], dtype=int64)"
      ]
     },
     "execution_count": 86,
     "metadata": {},
     "output_type": "execute_result"
    }
   ],
   "source": [
    "cm"
   ]
  },
  {
   "cell_type": "code",
   "execution_count": 58,
   "metadata": {},
   "outputs": [
    {
     "data": {
      "text/html": [
       "<div>\n",
       "<style scoped>\n",
       "    .dataframe tbody tr th:only-of-type {\n",
       "        vertical-align: middle;\n",
       "    }\n",
       "\n",
       "    .dataframe tbody tr th {\n",
       "        vertical-align: top;\n",
       "    }\n",
       "\n",
       "    .dataframe thead th {\n",
       "        text-align: right;\n",
       "    }\n",
       "</style>\n",
       "<table border=\"1\" class=\"dataframe\">\n",
       "  <thead>\n",
       "    <tr style=\"text-align: right;\">\n",
       "      <th></th>\n",
       "      <th>POSITIVE</th>\n",
       "      <th>NEGATIVE</th>\n",
       "    </tr>\n",
       "  </thead>\n",
       "  <tbody>\n",
       "    <tr>\n",
       "      <td>POSITIVE</td>\n",
       "      <td>629</td>\n",
       "      <td>151</td>\n",
       "    </tr>\n",
       "    <tr>\n",
       "      <td>NEGATIVE</td>\n",
       "      <td>123</td>\n",
       "      <td>644</td>\n",
       "    </tr>\n",
       "  </tbody>\n",
       "</table>\n",
       "</div>"
      ],
      "text/plain": [
       "          POSITIVE  NEGATIVE\n",
       "POSITIVE       629       151\n",
       "NEGATIVE       123       644"
      ]
     },
     "execution_count": 58,
     "metadata": {},
     "output_type": "execute_result"
    }
   ],
   "source": [
    "df_cm.head()"
   ]
  },
  {
   "cell_type": "code",
   "execution_count": 60,
   "metadata": {},
   "outputs": [
    {
     "ename": "NameError",
     "evalue": "name 'Accent' is not defined",
     "output_type": "error",
     "traceback": [
      "\u001b[1;31m---------------------------------------------------------------------------\u001b[0m",
      "\u001b[1;31mNameError\u001b[0m                                 Traceback (most recent call last)",
      "\u001b[1;32m<ipython-input-60-7f97e00e31f6>\u001b[0m in \u001b[0;36m<module>\u001b[1;34m\u001b[0m\n\u001b[1;32m----> 1\u001b[1;33m \u001b[0mprint\u001b[0m\u001b[1;33m(\u001b[0m\u001b[0mAccent\u001b[0m\u001b[1;33m,\u001b[0m \u001b[0mAccent_r\u001b[0m\u001b[1;33m,\u001b[0m \u001b[0mBlues\u001b[0m\u001b[1;33m,\u001b[0m \u001b[0mBlues_r\u001b[0m\u001b[1;33m,\u001b[0m \u001b[0mBrBG\u001b[0m\u001b[1;33m,\u001b[0m \u001b[0mBrBG_r\u001b[0m\u001b[1;33m,\u001b[0m \u001b[0mBuGn\u001b[0m\u001b[1;33m,\u001b[0m \u001b[0mBuGn_r\u001b[0m\u001b[1;33m,\u001b[0m \u001b[0mBuPu\u001b[0m\u001b[1;33m,\u001b[0m \u001b[0mBuPu_r\u001b[0m\u001b[1;33m,\u001b[0m \u001b[0mCMRmap\u001b[0m\u001b[1;33m,\u001b[0m \u001b[0mCMRmap_r\u001b[0m\u001b[1;33m,\u001b[0m \u001b[0mDark2\u001b[0m\u001b[1;33m,\u001b[0m \u001b[0mDark2_r\u001b[0m\u001b[1;33m,\u001b[0m \u001b[0mGnBu\u001b[0m\u001b[1;33m,\u001b[0m \u001b[0mGnBu_r\u001b[0m\u001b[1;33m,\u001b[0m \u001b[0mGreens\u001b[0m\u001b[1;33m,\u001b[0m \u001b[0mGreens_r\u001b[0m\u001b[1;33m,\u001b[0m \u001b[0mGreys\u001b[0m\u001b[1;33m,\u001b[0m \u001b[0mGreys_r\u001b[0m\u001b[1;33m,\u001b[0m \u001b[0mOrRd\u001b[0m\u001b[1;33m,\u001b[0m \u001b[0mOrRd_r\u001b[0m\u001b[1;33m,\u001b[0m \u001b[0mOranges\u001b[0m\u001b[1;33m,\u001b[0m \u001b[0mOranges_r\u001b[0m\u001b[1;33m,\u001b[0m \u001b[0mPRGn\u001b[0m\u001b[1;33m,\u001b[0m \u001b[0mPRGn_r\u001b[0m\u001b[1;33m,\u001b[0m \u001b[0mPaired\u001b[0m\u001b[1;33m,\u001b[0m \u001b[0mPaired_r\u001b[0m\u001b[1;33m,\u001b[0m \u001b[0mPastel1\u001b[0m\u001b[1;33m,\u001b[0m \u001b[0mPastel1_r\u001b[0m\u001b[1;33m,\u001b[0m \u001b[0mPastel2\u001b[0m\u001b[1;33m,\u001b[0m \u001b[0mPastel2_r\u001b[0m\u001b[1;33m,\u001b[0m \u001b[0mPiYG\u001b[0m\u001b[1;33m,\u001b[0m \u001b[0mPiYG_r\u001b[0m\u001b[1;33m,\u001b[0m \u001b[0mPuBu\u001b[0m\u001b[1;33m,\u001b[0m \u001b[0mPuBuGn\u001b[0m\u001b[1;33m,\u001b[0m \u001b[0mPuBuGn_r\u001b[0m\u001b[1;33m,\u001b[0m \u001b[0mPuBu_r\u001b[0m\u001b[1;33m,\u001b[0m \u001b[0mPuOr\u001b[0m\u001b[1;33m,\u001b[0m \u001b[0mPuOr_r\u001b[0m\u001b[1;33m,\u001b[0m \u001b[0mPuRd\u001b[0m\u001b[1;33m,\u001b[0m \u001b[0mPuRd_r\u001b[0m\u001b[1;33m,\u001b[0m \u001b[0mPurples\u001b[0m\u001b[1;33m,\u001b[0m \u001b[0mPurples_r\u001b[0m\u001b[1;33m,\u001b[0m \u001b[0mRdBu\u001b[0m\u001b[1;33m,\u001b[0m \u001b[0mRdBu_r\u001b[0m\u001b[1;33m,\u001b[0m \u001b[0mRdGy\u001b[0m\u001b[1;33m,\u001b[0m \u001b[0mRdGy_r\u001b[0m\u001b[1;33m,\u001b[0m \u001b[0mRdPu\u001b[0m\u001b[1;33m,\u001b[0m \u001b[0mRdPu_r\u001b[0m\u001b[1;33m,\u001b[0m \u001b[0mRdYlBu\u001b[0m\u001b[1;33m,\u001b[0m \u001b[0mRdYlBu_r\u001b[0m\u001b[1;33m,\u001b[0m \u001b[0mRdYlGn\u001b[0m\u001b[1;33m,\u001b[0m \u001b[0mRdYlGn_r\u001b[0m\u001b[1;33m,\u001b[0m \u001b[0mReds\u001b[0m\u001b[1;33m,\u001b[0m \u001b[0mReds_r\u001b[0m\u001b[1;33m,\u001b[0m \u001b[0mSet1\u001b[0m\u001b[1;33m,\u001b[0m \u001b[0mSet1_r\u001b[0m\u001b[1;33m,\u001b[0m \u001b[0mSet2\u001b[0m\u001b[1;33m,\u001b[0m \u001b[0mSet2_r\u001b[0m\u001b[1;33m,\u001b[0m \u001b[0mSet3\u001b[0m\u001b[1;33m,\u001b[0m \u001b[0mSet3_r\u001b[0m\u001b[1;33m,\u001b[0m \u001b[0mSpectral\u001b[0m\u001b[1;33m,\u001b[0m \u001b[0mSpectral_r\u001b[0m\u001b[1;33m,\u001b[0m \u001b[0mWistia\u001b[0m\u001b[1;33m,\u001b[0m \u001b[0mWistia_r\u001b[0m\u001b[1;33m,\u001b[0m \u001b[0mYlGn\u001b[0m\u001b[1;33m,\u001b[0m \u001b[0mYlGnBu\u001b[0m\u001b[1;33m,\u001b[0m \u001b[0mYlGnBu_r\u001b[0m\u001b[1;33m,\u001b[0m \u001b[0mYlGn_r\u001b[0m\u001b[1;33m,\u001b[0m \u001b[0mYlOrBr\u001b[0m\u001b[1;33m,\u001b[0m \u001b[0mYlOrBr_r\u001b[0m\u001b[1;33m,\u001b[0m \u001b[0mYlOrRd\u001b[0m\u001b[1;33m,\u001b[0m \u001b[0mYlOrRd_r\u001b[0m\u001b[1;33m,\u001b[0m \u001b[0mafmhot\u001b[0m\u001b[1;33m,\u001b[0m \u001b[0mafmhot_r\u001b[0m\u001b[1;33m,\u001b[0m \u001b[0mautumn\u001b[0m\u001b[1;33m,\u001b[0m \u001b[0mautumn_r\u001b[0m\u001b[1;33m,\u001b[0m \u001b[0mbinary\u001b[0m\u001b[1;33m,\u001b[0m \u001b[0mbinary_r\u001b[0m\u001b[1;33m,\u001b[0m \u001b[0mbone\u001b[0m\u001b[1;33m,\u001b[0m \u001b[0mbone_r\u001b[0m\u001b[1;33m,\u001b[0m \u001b[0mbrg\u001b[0m\u001b[1;33m,\u001b[0m \u001b[0mbrg_r\u001b[0m\u001b[1;33m,\u001b[0m \u001b[0mbwr\u001b[0m\u001b[1;33m,\u001b[0m \u001b[0mbwr_r\u001b[0m\u001b[1;33m,\u001b[0m \u001b[0mcividis\u001b[0m\u001b[1;33m,\u001b[0m \u001b[0mcividis_r\u001b[0m\u001b[1;33m,\u001b[0m \u001b[0mcool\u001b[0m\u001b[1;33m,\u001b[0m \u001b[0mcool_r\u001b[0m\u001b[1;33m,\u001b[0m \u001b[0mcoolwarm\u001b[0m\u001b[1;33m,\u001b[0m \u001b[0mcoolwarm_r\u001b[0m\u001b[1;33m,\u001b[0m \u001b[0mcopper\u001b[0m\u001b[1;33m,\u001b[0m \u001b[0mcopper_r\u001b[0m\u001b[1;33m,\u001b[0m \u001b[0mcubehelix\u001b[0m\u001b[1;33m,\u001b[0m \u001b[0mcubehelix_r\u001b[0m\u001b[1;33m,\u001b[0m \u001b[0mflag\u001b[0m\u001b[1;33m,\u001b[0m \u001b[0mflag_r\u001b[0m\u001b[1;33m,\u001b[0m \u001b[0mgist_earth\u001b[0m\u001b[1;33m,\u001b[0m \u001b[0mgist_earth_r\u001b[0m\u001b[1;33m,\u001b[0m \u001b[0mgist_gray\u001b[0m\u001b[1;33m,\u001b[0m \u001b[0mgist_gray_r\u001b[0m\u001b[1;33m,\u001b[0m \u001b[0mgist_heat\u001b[0m\u001b[1;33m,\u001b[0m \u001b[0mgist_heat_r\u001b[0m\u001b[1;33m,\u001b[0m \u001b[0mgist_ncar\u001b[0m\u001b[1;33m,\u001b[0m \u001b[0mgist_ncar_r\u001b[0m\u001b[1;33m,\u001b[0m \u001b[0mgist_rainbow\u001b[0m\u001b[1;33m,\u001b[0m \u001b[0mgist_rainbow_r\u001b[0m\u001b[1;33m,\u001b[0m \u001b[0mgist_stern\u001b[0m\u001b[1;33m,\u001b[0m \u001b[0mgist_stern_r\u001b[0m\u001b[1;33m,\u001b[0m \u001b[0mgist_yarg\u001b[0m\u001b[1;33m,\u001b[0m \u001b[0mgist_yarg_r\u001b[0m\u001b[1;33m,\u001b[0m \u001b[0mgnuplot\u001b[0m\u001b[1;33m,\u001b[0m \u001b[0mgnuplot2\u001b[0m\u001b[1;33m,\u001b[0m \u001b[0mgnuplot2_r\u001b[0m\u001b[1;33m,\u001b[0m \u001b[0mgnuplot_r\u001b[0m\u001b[1;33m,\u001b[0m \u001b[0mgray\u001b[0m\u001b[1;33m,\u001b[0m \u001b[0mgray_r\u001b[0m\u001b[1;33m,\u001b[0m \u001b[0mhot\u001b[0m\u001b[1;33m,\u001b[0m \u001b[0mhot_r\u001b[0m\u001b[1;33m,\u001b[0m \u001b[0mhsv\u001b[0m\u001b[1;33m,\u001b[0m \u001b[0mhsv_r\u001b[0m\u001b[1;33m,\u001b[0m \u001b[0micefire\u001b[0m\u001b[1;33m,\u001b[0m \u001b[0micefire_r\u001b[0m\u001b[1;33m,\u001b[0m \u001b[0minferno\u001b[0m\u001b[1;33m,\u001b[0m \u001b[0minferno_r\u001b[0m\u001b[1;33m,\u001b[0m \u001b[0mjet\u001b[0m\u001b[1;33m,\u001b[0m \u001b[0mjet_r\u001b[0m\u001b[1;33m,\u001b[0m \u001b[0mmagma\u001b[0m\u001b[1;33m,\u001b[0m \u001b[0mmagma_r\u001b[0m\u001b[1;33m,\u001b[0m \u001b[0mmako\u001b[0m\u001b[1;33m,\u001b[0m \u001b[0mmako_r\u001b[0m\u001b[1;33m,\u001b[0m \u001b[0mnipy_spectral\u001b[0m\u001b[1;33m,\u001b[0m \u001b[0mnipy_spectral_r\u001b[0m\u001b[1;33m,\u001b[0m \u001b[0mocean\u001b[0m\u001b[1;33m,\u001b[0m \u001b[0mocean_r\u001b[0m\u001b[1;33m,\u001b[0m \u001b[0mpink\u001b[0m\u001b[1;33m,\u001b[0m \u001b[0mpink_r\u001b[0m\u001b[1;33m,\u001b[0m \u001b[0mplasma\u001b[0m\u001b[1;33m,\u001b[0m \u001b[0mplasma_r\u001b[0m\u001b[1;33m,\u001b[0m \u001b[0mprism\u001b[0m\u001b[1;33m,\u001b[0m \u001b[0mprism_r\u001b[0m\u001b[1;33m,\u001b[0m \u001b[0mrainbow\u001b[0m\u001b[1;33m,\u001b[0m \u001b[0mrainbow_r\u001b[0m\u001b[1;33m,\u001b[0m \u001b[0mrocket\u001b[0m\u001b[1;33m,\u001b[0m \u001b[0mrocket_r\u001b[0m\u001b[1;33m,\u001b[0m \u001b[0mseismic\u001b[0m\u001b[1;33m,\u001b[0m \u001b[0mseismic_r\u001b[0m\u001b[1;33m,\u001b[0m \u001b[0mspring\u001b[0m\u001b[1;33m,\u001b[0m \u001b[0mspring_r\u001b[0m\u001b[1;33m,\u001b[0m \u001b[0msummer\u001b[0m\u001b[1;33m,\u001b[0m \u001b[0msummer_r\u001b[0m\u001b[1;33m,\u001b[0m \u001b[0mtab10\u001b[0m\u001b[1;33m,\u001b[0m \u001b[0mtab10_r\u001b[0m\u001b[1;33m,\u001b[0m \u001b[0mtab20\u001b[0m\u001b[1;33m,\u001b[0m \u001b[0mtab20_r\u001b[0m\u001b[1;33m,\u001b[0m \u001b[0mtab20b\u001b[0m\u001b[1;33m,\u001b[0m \u001b[0mtab20b_r\u001b[0m\u001b[1;33m,\u001b[0m \u001b[0mtab20c\u001b[0m\u001b[1;33m,\u001b[0m \u001b[0mtab20c_r\u001b[0m\u001b[1;33m,\u001b[0m \u001b[0mterrain\u001b[0m\u001b[1;33m,\u001b[0m \u001b[0mterrain_r\u001b[0m\u001b[1;33m,\u001b[0m \u001b[0mtwilight\u001b[0m\u001b[1;33m,\u001b[0m \u001b[0mtwilight_r\u001b[0m\u001b[1;33m,\u001b[0m \u001b[0mtwilight_shifted\u001b[0m\u001b[1;33m,\u001b[0m \u001b[0mtwilight_shifted_r\u001b[0m\u001b[1;33m,\u001b[0m \u001b[0mviridis\u001b[0m\u001b[1;33m,\u001b[0m \u001b[0mviridis_r\u001b[0m\u001b[1;33m,\u001b[0m \u001b[0mvlag\u001b[0m\u001b[1;33m,\u001b[0m \u001b[0mvlag_r\u001b[0m\u001b[1;33m,\u001b[0m \u001b[0mwinter\u001b[0m\u001b[1;33m,\u001b[0m \u001b[0mwinter_r\u001b[0m\u001b[1;33m)\u001b[0m\u001b[1;33m\u001b[0m\u001b[1;33m\u001b[0m\u001b[0m\n\u001b[0m",
      "\u001b[1;31mNameError\u001b[0m: name 'Accent' is not defined"
     ]
    }
   ],
   "source": [
    "print(Accent, Accent_r, Blues, Blues_r, BrBG, BrBG_r, BuGn, BuGn_r, BuPu, BuPu_r, CMRmap, CMRmap_r, Dark2, Dark2_r, GnBu, GnBu_r, Greens, Greens_r, Greys, Greys_r, OrRd, OrRd_r, Oranges, Oranges_r, PRGn, PRGn_r, Paired, Paired_r, Pastel1, Pastel1_r, Pastel2, Pastel2_r, PiYG, PiYG_r, PuBu, PuBuGn, PuBuGn_r, PuBu_r, PuOr, PuOr_r, PuRd, PuRd_r, Purples, Purples_r, RdBu, RdBu_r, RdGy, RdGy_r, RdPu, RdPu_r, RdYlBu, RdYlBu_r, RdYlGn, RdYlGn_r, Reds, Reds_r, Set1, Set1_r, Set2, Set2_r, Set3, Set3_r, Spectral, Spectral_r, Wistia, Wistia_r, YlGn, YlGnBu, YlGnBu_r, YlGn_r, YlOrBr, YlOrBr_r, YlOrRd, YlOrRd_r, afmhot, afmhot_r, autumn, autumn_r, binary, binary_r, bone, bone_r, brg, brg_r, bwr, bwr_r, cividis, cividis_r, cool, cool_r, coolwarm, coolwarm_r, copper, copper_r, cubehelix, cubehelix_r, flag, flag_r, gist_earth, gist_earth_r, gist_gray, gist_gray_r, gist_heat, gist_heat_r, gist_ncar, gist_ncar_r, gist_rainbow, gist_rainbow_r, gist_stern, gist_stern_r, gist_yarg, gist_yarg_r, gnuplot, gnuplot2, gnuplot2_r, gnuplot_r, gray, gray_r, hot, hot_r, hsv, hsv_r, icefire, icefire_r, inferno, inferno_r, jet, jet_r, magma, magma_r, mako, mako_r, nipy_spectral, nipy_spectral_r, ocean, ocean_r, pink, pink_r, plasma, plasma_r, prism, prism_r, rainbow, rainbow_r, rocket, rocket_r, seismic, seismic_r, spring, spring_r, summer, summer_r, tab10, tab10_r, tab20, tab20_r, tab20b, tab20b_r, tab20c, tab20c_r, terrain, terrain_r, twilight, twilight_r, twilight_shifted, twilight_shifted_r, viridis, viridis_r, vlag, vlag_r, winter, winter_r)"
   ]
  },
  {
   "cell_type": "markdown",
   "metadata": {},
   "source": [
    "# Saving the Model"
   ]
  },
  {
   "cell_type": "code",
   "execution_count": 161,
   "metadata": {},
   "outputs": [
    {
     "data": {
      "text/plain": [
       "['NaiveBayesModel.pkl']"
      ]
     },
     "execution_count": 161,
     "metadata": {},
     "output_type": "execute_result"
    }
   ],
   "source": [
    "#Saving the Model\n",
    "from sklearn.externals import joblib\n",
    "filename = 'NaiveBayesModel.pkl'\n",
    "joblib.dump(model_nb, filename)"
   ]
  },
  {
   "cell_type": "code",
   "execution_count": 1,
   "metadata": {},
   "outputs": [
    {
     "name": "stderr",
     "output_type": "stream",
     "text": [
      "C:\\Users\\oddoy\\Anaconda3\\lib\\site-packages\\sklearn\\externals\\joblib\\__init__.py:15: DeprecationWarning: sklearn.externals.joblib is deprecated in 0.21 and will be removed in 0.23. Please import this functionality directly from joblib, which can be installed with: pip install joblib. If this warning is raised when loading pickled models, you may need to re-serialize those models with scikit-learn 0.21+.\n",
      "  warnings.warn(msg, category=DeprecationWarning)\n"
     ]
    }
   ],
   "source": [
    "#Loading the Model\n",
    "from sklearn.externals import joblib\n",
    "NB_model = open('NaiveBayesModel.pkl','rb')\n",
    "NB_model_loaded = joblib.load(NB_model)"
   ]
  },
  {
   "cell_type": "code",
   "execution_count": 2,
   "metadata": {},
   "outputs": [
    {
     "ename": "NameError",
     "evalue": "name 'vectorizer' is not defined",
     "output_type": "error",
     "traceback": [
      "\u001b[1;31m---------------------------------------------------------------------------\u001b[0m",
      "\u001b[1;31mNameError\u001b[0m                                 Traceback (most recent call last)",
      "\u001b[1;32m<ipython-input-2-b1aeafdebfc0>\u001b[0m in \u001b[0;36m<module>\u001b[1;34m\u001b[0m\n\u001b[0;32m      1\u001b[0m \u001b[1;31m#Testing if Load Model still Works\u001b[0m\u001b[1;33m\u001b[0m\u001b[1;33m\u001b[0m\u001b[1;33m\u001b[0m\u001b[0m\n\u001b[0;32m      2\u001b[0m \u001b[0mtest_set1\u001b[0m \u001b[1;33m=\u001b[0m \u001b[1;33m[\u001b[0m\u001b[1;34m\"this product was reliable\"\u001b[0m\u001b[1;33m]\u001b[0m\u001b[1;33m\u001b[0m\u001b[1;33m\u001b[0m\u001b[0m\n\u001b[1;32m----> 3\u001b[1;33m \u001b[0mnew_test1\u001b[0m\u001b[1;33m=\u001b[0m \u001b[0mvectorizer\u001b[0m\u001b[1;33m.\u001b[0m\u001b[0mtransform\u001b[0m\u001b[1;33m(\u001b[0m\u001b[0mtest_set1\u001b[0m\u001b[1;33m)\u001b[0m\u001b[1;33m\u001b[0m\u001b[1;33m\u001b[0m\u001b[0m\n\u001b[0m\u001b[0;32m      4\u001b[0m \u001b[0mNB_model_loaded\u001b[0m\u001b[1;33m.\u001b[0m\u001b[0mpredict\u001b[0m\u001b[1;33m(\u001b[0m\u001b[0mnew_test\u001b[0m\u001b[1;33m)\u001b[0m\u001b[1;33m\u001b[0m\u001b[1;33m\u001b[0m\u001b[0m\n",
      "\u001b[1;31mNameError\u001b[0m: name 'vectorizer' is not defined"
     ]
    }
   ],
   "source": [
    "#Testing if Load Model still Works\n",
    "test_set1 = [\"this product was reliable\"]\n",
    "new_test1= vectorizer.transform(test_set1)\n",
    "NB_model_loaded.predict(new_test)"
   ]
  },
  {
   "cell_type": "code",
   "execution_count": null,
   "metadata": {},
   "outputs": [],
   "source": []
  }
 ],
 "metadata": {
  "kernelspec": {
   "display_name": "Python 3",
   "language": "python",
   "name": "python3"
  },
  "language_info": {
   "codemirror_mode": {
    "name": "ipython",
    "version": 3
   },
   "file_extension": ".py",
   "mimetype": "text/x-python",
   "name": "python",
   "nbconvert_exporter": "python",
   "pygments_lexer": "ipython3",
   "version": "3.7.4"
  }
 },
 "nbformat": 4,
 "nbformat_minor": 2
}
